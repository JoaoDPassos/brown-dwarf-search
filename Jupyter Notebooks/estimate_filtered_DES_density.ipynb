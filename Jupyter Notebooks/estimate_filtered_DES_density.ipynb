{
 "cells": [
  {
   "cell_type": "code",
   "execution_count": 9,
   "id": "10b54d1f-5319-4319-ae57-eae436246650",
   "metadata": {},
   "outputs": [
    {
     "name": "stdout",
     "output_type": "stream",
     "text": [
      "Imported libraries\n"
     ]
    }
   ],
   "source": [
    "import numpy as np\n",
    "import pandas as pd\n",
    "from random import sample\n",
    "from astropy.coordinates import SkyCoord\n",
    "import astropy.units as u\n",
    "import lsdb\n",
    "from dask.distributed import Client\n",
    "from catalog_filtering import bandFilterLenient, contains_PM\n",
    "from pathlib import Path\n",
    "print(\"Imported libraries\")"
   ]
  },
  {
   "cell_type": "code",
   "execution_count": 3,
   "id": "83a99d1f-e481-4ebb-a3f0-539e29f475f3",
   "metadata": {},
   "outputs": [
    {
     "name": "stdout",
     "output_type": "stream",
     "text": [
      "Client Initialized\n"
     ]
    }
   ],
   "source": [
    "client = Client(n_workers=4)\n",
    "print(\"Client Initialized\")"
   ]
  },
  {
   "cell_type": "code",
   "execution_count": 13,
   "id": "b51f6dba-3b7e-488d-917a-205dd481d28b",
   "metadata": {},
   "outputs": [
    {
     "name": "stdout",
     "output_type": "stream",
     "text": [
      "Defined local vars.\n"
     ]
    }
   ],
   "source": [
    "bandList = ['G','R','I','Z','Y']\n",
    "class_star = None\n",
    "spread_model = 0.05\n",
    "magnitude_error = 0.05\n",
    "check_flags = True\n",
    "check_invalid_mags = True\n",
    "query_string = bandFilterLenient(bandList,classStar=class_star,spreadModel=spread_model,magError=magnitude_error,flag=check_flags,invalidMags=check_invalid_mags)\n",
    "des_cols = (\n",
    "    [f'CLASS_STAR_{band}' for band in bandList] + \n",
    "    [f'FLAGS_{band}' for band in bandList] + \n",
    "    ['RA','DEC','COADD_OBJECT_ID'] + \n",
    "    [f'SPREAD_MODEL_{band}' for band in bandList] + \n",
    "    [f'WAVG_MAG_PSF_{band}' for band in bandList] + \n",
    "    [f'WAVG_MAGERR_PSF_{band}' for band in bandList]\n",
    ")\n",
    "k = 1\n",
    "collinear_error_cutoff = 0.2\n",
    "pm_speed_min = 2000 #units are milliseconds per year\n",
    "pm_speed_max = 10**5\n",
    "cone_search_rad = 50\n",
    "max_neighbor_dist = 18\n",
    "milliarc_degree_conversion = 1/(1000*3600)\n",
    "# Parameters\n",
    "n_samples = 100\n",
    "search_radius_arcsec = 18\n",
    "des_columns = ['RA', 'DEC']  # add more if needed\n",
    "CATALOG_DIR = Path(\"../../catalogs\")\n",
    "DES_FILTERED_NAME = \"des_light_filtered\"\n",
    "DES_FILTERED_DIR = CATALOG_DIR / DES_FILTERED_NAME\n",
    "print(\"Defined local vars.\")"
   ]
  },
  {
   "cell_type": "code",
   "execution_count": 15,
   "id": "e90490b7-dfe1-4527-81f8-6eda850fe14c",
   "metadata": {},
   "outputs": [
    {
     "name": "stdout",
     "output_type": "stream",
     "text": [
      "Defined catalog.\n"
     ]
    }
   ],
   "source": [
    "des_catalog = (\n",
    "    lsdb.read_hats(DES_FILTERED_DIR)\n",
    "    .query(query_string)  # <- insert your filter\n",
    ")\n",
    "print(\"Defined catalog.\")"
   ]
  },
  {
   "cell_type": "code",
   "execution_count": 19,
   "id": "72c0e4cd-d263-40e4-af0b-b80e2030910b",
   "metadata": {},
   "outputs": [
    {
     "ename": "AttributeError",
     "evalue": "'Catalog' object has no attribute 'get_partition_ids'",
     "output_type": "error",
     "traceback": [
      "\u001b[31m---------------------------------------------------------------------------\u001b[39m",
      "\u001b[31mAttributeError\u001b[39m                            Traceback (most recent call last)",
      "\u001b[36mCell\u001b[39m\u001b[36m \u001b[39m\u001b[32mIn[19]\u001b[39m\u001b[32m, line 1\u001b[39m\n\u001b[32m----> \u001b[39m\u001b[32m1\u001b[39m partition_ids = \u001b[43mdes_catalog\u001b[49m\u001b[43m.\u001b[49m\u001b[43mget_partition_ids\u001b[49m()\n",
      "\u001b[31mAttributeError\u001b[39m: 'Catalog' object has no attribute 'get_partition_ids'"
     ]
    }
   ],
   "source": [
    "partition_ids = des_catalog.get_partition_ids()\n",
    "\n"
   ]
  },
  {
   "cell_type": "code",
   "execution_count": null,
   "id": "ea387cae-89da-4a1e-83a1-4c4e56b3bcc5",
   "metadata": {},
   "outputs": [],
   "source": [
    "# Function to count neighbors within search_radius_arcsec\n",
    "def count_neighbors(row):\n",
    "    ra, dec = row['RA'], row['DEC']\n",
    "    nearby = des_catalog.cone_search(ra=ra, dec=dec, radius_arcsec=search_radius_arcsec)\n",
    "    return len(nearby.to_pandas()) - 1  # exclude the object itself"
   ]
  }
 ],
 "metadata": {
  "kernelspec": {
   "display_name": "lsdb-main",
   "language": "python",
   "name": "lsdb-main"
  },
  "language_info": {
   "codemirror_mode": {
    "name": "ipython",
    "version": 3
   },
   "file_extension": ".py",
   "mimetype": "text/x-python",
   "name": "python",
   "nbconvert_exporter": "python",
   "pygments_lexer": "ipython3",
   "version": "3.12.9"
  }
 },
 "nbformat": 4,
 "nbformat_minor": 5
}
