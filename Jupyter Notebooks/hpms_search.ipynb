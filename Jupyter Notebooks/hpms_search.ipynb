{
 "cells": [
  {
   "cell_type": "markdown",
   "id": "d8e198e1-41d5-4443-a64f-577bc22667e1",
   "metadata": {},
   "source": [
    "# Searching for High PM Stars in Other Catalogs\n",
    "\n",
    "In this notebook, we seek to explore the appearance of high PM stars in various catalogs, obtained from https://data.lsdb.io/. This will be useful in gauging wether our current method will be capable of identifying these high PM stars, and wether other techniques are viable (i.e. KBMOD). We will search for these stars by first utilizing PM data from Gaia DR3, and crossmatching Gaia stars with high proper motions with those from the other catalogs "
   ]
  },
  {
   "cell_type": "code",
   "execution_count": 33,
   "id": "81ce6662-0650-4077-b7d0-38a9328e41c7",
   "metadata": {},
   "outputs": [
    {
     "name": "stdout",
     "output_type": "stream",
     "text": [
      "Imported libraries.\n"
     ]
    }
   ],
   "source": [
    "from pathlib import Path\n",
    "import s3fs\n",
    "\n",
    "import numpy as np\n",
    "from astropy.io import ascii\n",
    "import matplotlib.pyplot as plt\n",
    "\n",
    "from dask.distributed import Client\n",
    "import dask.array\n",
    "from dask.dataframe.utils import make_meta\n",
    "\n",
    "from hats import read_hats\n",
    "from hats.inspection import plot_pixels\n",
    "from hats_import.catalog.file_readers import CsvReader\n",
    "from hats_import.margin_cache.margin_cache_arguments import MarginCacheArguments\n",
    "from hats_import.pipeline import ImportArguments, pipeline_with_client\n",
    "\n",
    "import lsdb\n",
    "\n",
    "from catalog_filtering import bandFilterLenient, contains_PM\n",
    "\n",
    "print(\"Imported libraries.\")"
   ]
  },
  {
   "cell_type": "code",
   "execution_count": 34,
   "id": "ee004ef8-1796-4c55-95a1-8bbb2d701d56",
   "metadata": {},
   "outputs": [],
   "source": [
    "pm_speed_min = 1000 #units are milliarcseconds per year\n",
    "pm_speed_max = 10**5\n",
    "CATALOG_DIR = Path(\"../../catalogs\")\n",
    "GAIA_HATS_DIR = Path(\"../../../shared/hats/catalogs/gaia_dr3/gaia\")\n",
    "GAIA_100_NAME = \"gaia_dr3_pm_greater_100\"\n",
    "GAIA_100_DIR = CATALOG_DIR / GAIA_100_NAME\n",
    "GAIA_1000_NAME = 'gaia_dr3_pm_greater_1000'\n",
    "GAIA_1000_DIR = CATALOG_DIR / GAIA_1000_NAME"
   ]
  },
  {
   "cell_type": "code",
   "execution_count": 6,
   "id": "5f631e46-db6f-40de-a945-7a67e5df55e5",
   "metadata": {},
   "outputs": [
    {
     "name": "stderr",
     "output_type": "stream",
     "text": [
      "2025-06-02 15:06:27,068 - distributed.nanny - WARNING - Worker process still alive after 4.0 seconds, killing\n",
      "2025-06-02 15:06:27,070 - distributed.nanny - WARNING - Worker process still alive after 4.0 seconds, killing\n",
      "2025-06-02 15:06:27,071 - distributed.nanny - WARNING - Worker process still alive after 4.0 seconds, killing\n",
      "2025-06-02 15:06:27,071 - distributed.nanny - WARNING - Worker process still alive after 4.0 seconds, killing\n"
     ]
    },
    {
     "name": "stdout",
     "output_type": "stream",
     "text": [
      "gaia_pm successfully saved to /catalog\n",
      "CPU times: user 1min 20s, sys: 4.34 s, total: 1min 24s\n",
      "Wall time: 2min 57s\n"
     ]
    }
   ],
   "source": [
    "%%time\n",
    "with Client(n_workers=4):\n",
    "    lsdb.read_hats(\n",
    "        path=GAIA_HATS_DIR,\n",
    "        columns=['ra', 'pmra', 'dec', \n",
    "                 'pmdec', 'source_id', 'parallax_over_error', \n",
    "                 'phot_g_mean_mag', 'phot_bp_mean_mag', 'phot_rp_mean_mag'],\n",
    "    ).query('pmra*pmra + pmdec*pmdec > 100*100').to_hats(catalog_name = GAIA_100_NAME, \n",
    "                                                        base_catalog_path = GAIA_100_DIR)\n",
    "\n",
    "print(\"gaia_pm successfully saved to /catalog\")"
   ]
  },
  {
   "cell_type": "code",
   "execution_count": 13,
   "id": "be27f9ca-633e-4328-9b4a-5c60770b2ea9",
   "metadata": {},
   "outputs": [
    {
     "data": {
      "text/html": [
       "<div><strong>lsdb Catalog gaia_dr3_pm_greater_100:</strong></div><div>\n",
       "<style scoped>\n",
       "    .dataframe tbody tr th:only-of-type {\n",
       "        vertical-align: middle;\n",
       "    }\n",
       "\n",
       "    .dataframe tbody tr th {\n",
       "        vertical-align: top;\n",
       "    }\n",
       "\n",
       "    .dataframe thead th {\n",
       "        text-align: right;\n",
       "    }\n",
       "</style>\n",
       "<table border=\"1\" class=\"dataframe\">\n",
       "  <thead>\n",
       "    <tr style=\"text-align: right;\">\n",
       "      <th></th>\n",
       "      <th>source_id</th>\n",
       "      <th>ra</th>\n",
       "      <th>dec</th>\n",
       "      <th>pmra</th>\n",
       "      <th>pmdec</th>\n",
       "      <th>phot_g_mean_mag</th>\n",
       "      <th>phot_bp_mean_mag</th>\n",
       "      <th>phot_rp_mean_mag</th>\n",
       "    </tr>\n",
       "    <tr>\n",
       "      <th>npartitions=3917</th>\n",
       "      <th></th>\n",
       "      <th></th>\n",
       "      <th></th>\n",
       "      <th></th>\n",
       "      <th></th>\n",
       "      <th></th>\n",
       "      <th></th>\n",
       "      <th></th>\n",
       "    </tr>\n",
       "  </thead>\n",
       "  <tbody>\n",
       "    <tr>\n",
       "      <th>Order: 2, Pixel: 0</th>\n",
       "      <td>int64[pyarrow]</td>\n",
       "      <td>double[pyarrow]</td>\n",
       "      <td>double[pyarrow]</td>\n",
       "      <td>double[pyarrow]</td>\n",
       "      <td>double[pyarrow]</td>\n",
       "      <td>double[pyarrow]</td>\n",
       "      <td>double[pyarrow]</td>\n",
       "      <td>double[pyarrow]</td>\n",
       "    </tr>\n",
       "    <tr>\n",
       "      <th>Order: 3, Pixel: 4</th>\n",
       "      <td>...</td>\n",
       "      <td>...</td>\n",
       "      <td>...</td>\n",
       "      <td>...</td>\n",
       "      <td>...</td>\n",
       "      <td>...</td>\n",
       "      <td>...</td>\n",
       "      <td>...</td>\n",
       "    </tr>\n",
       "    <tr>\n",
       "      <th>...</th>\n",
       "      <td>...</td>\n",
       "      <td>...</td>\n",
       "      <td>...</td>\n",
       "      <td>...</td>\n",
       "      <td>...</td>\n",
       "      <td>...</td>\n",
       "      <td>...</td>\n",
       "      <td>...</td>\n",
       "    </tr>\n",
       "    <tr>\n",
       "      <th>Order: 4, Pixel: 3067</th>\n",
       "      <td>...</td>\n",
       "      <td>...</td>\n",
       "      <td>...</td>\n",
       "      <td>...</td>\n",
       "      <td>...</td>\n",
       "      <td>...</td>\n",
       "      <td>...</td>\n",
       "      <td>...</td>\n",
       "    </tr>\n",
       "    <tr>\n",
       "      <th>Order: 3, Pixel: 767</th>\n",
       "      <td>...</td>\n",
       "      <td>...</td>\n",
       "      <td>...</td>\n",
       "      <td>...</td>\n",
       "      <td>...</td>\n",
       "      <td>...</td>\n",
       "      <td>...</td>\n",
       "      <td>...</td>\n",
       "    </tr>\n",
       "  </tbody>\n",
       "</table>\n",
       "</div><div>The catalog has been loaded <strong>lazily</strong>, meaning no data has been read, only the catalog schema</div>"
      ],
      "text/plain": [
       "Dask NestedFrame Structure:\n",
       "                          source_id               ra              dec             pmra            pmdec  phot_g_mean_mag phot_bp_mean_mag phot_rp_mean_mag\n",
       "npartitions=3917                                                                                                                                          \n",
       "0                    int64[pyarrow]  double[pyarrow]  double[pyarrow]  double[pyarrow]  double[pyarrow]  double[pyarrow]  double[pyarrow]  double[pyarrow]\n",
       "18014398509481984               ...              ...              ...              ...              ...              ...              ...              ...\n",
       "...                             ...              ...              ...              ...              ...              ...              ...              ...\n",
       "3454260914193170432             ...              ...              ...              ...              ...              ...              ...              ...\n",
       "3458764513820540928             ...              ...              ...              ...              ...              ...              ...              ...\n",
       "Dask Name: nestedframe, 3 expressions\n",
       "Expr=MapPartitions(NestedFrame)"
      ]
     },
     "execution_count": 13,
     "metadata": {},
     "output_type": "execute_result"
    }
   ],
   "source": [
    "gaia_pm_greater_100 = lsdb.read_hats(GAIA_100_DIR)\n",
    "gaia_pm_greater_100"
   ]
  },
  {
   "cell_type": "code",
   "execution_count": 35,
   "id": "94dffe70-d685-47a5-bd2e-b0e0c2f65e71",
   "metadata": {},
   "outputs": [
    {
     "name": "stderr",
     "output_type": "stream",
     "text": [
      "2025-06-02 16:28:41,934 - distributed.nanny - WARNING - Worker process still alive after 4.0 seconds, killing\n",
      "2025-06-02 16:28:42,397 - distributed.nanny - WARNING - Worker process still alive after 4.0 seconds, killing\n",
      "2025-06-02 16:28:42,445 - distributed.nanny - WARNING - Worker process still alive after 4.0 seconds, killing\n",
      "2025-06-02 16:28:42,445 - distributed.nanny - WARNING - Worker process still alive after 4.0 seconds, killing\n"
     ]
    },
    {
     "name": "stdout",
     "output_type": "stream",
     "text": [
      "CPU times: user 4min 46s, sys: 5.81 s, total: 4min 52s\n",
      "Wall time: 7min 50s\n"
     ]
    }
   ],
   "source": [
    "%%time\n",
    "with Client():\n",
    "    pm_expr = f'{pm_speed_max**2} > (pmra**2 + pmdec**2) > {pm_speed_min**2}'\n",
    "    gaia_pm_greater_100.query(pm_expr).to_hats(\n",
    "        catalog_name=GAIA_1000_NAME, \n",
    "        base_catalog_path=GAIA_1000_DIR\n",
    "    )"
   ]
  },
  {
   "cell_type": "code",
   "execution_count": 36,
   "id": "7bbc68d9-229b-4837-8784-2dd699ef7be9",
   "metadata": {},
   "outputs": [
    {
     "name": "stdout",
     "output_type": "stream",
     "text": [
      "87\n"
     ]
    },
    {
     "data": {
      "text/html": [
       "<table border=\"1\" class=\"dataframe\">\n",
       "  <thead>\n",
       "    <tr style=\"text-align: right;\">\n",
       "      <th></th>\n",
       "      <th>source_id</th>\n",
       "      <th>ra</th>\n",
       "      <th>dec</th>\n",
       "      <th>pmra</th>\n",
       "      <th>pmdec</th>\n",
       "      <th>phot_g_mean_mag</th>\n",
       "      <th>phot_bp_mean_mag</th>\n",
       "      <th>phot_rp_mean_mag</th>\n",
       "    </tr>\n",
       "    <tr>\n",
       "      <th>_healpix_29</th>\n",
       "      <th></th>\n",
       "      <th></th>\n",
       "      <th></th>\n",
       "      <th></th>\n",
       "      <th></th>\n",
       "      <th></th>\n",
       "      <th></th>\n",
       "      <th></th>\n",
       "    </tr>\n",
       "  </thead>\n",
       "  <tbody>\n",
       "    <tr>\n",
       "      <th>315264182406594</th>\n",
       "      <td>630505494719360</td>\n",
       "      <td>46.613135</td>\n",
       "      <td>1.961064</td>\n",
       "      <td>389.25305</td>\n",
       "      <td>-925.02626</td>\n",
       "      <td>8.457596</td>\n",
       "      <td>9.291474</td>\n",
       "      <td>7.563784</td>\n",
       "    </tr>\n",
       "    <tr>\n",
       "      <th>613857838730173</th>\n",
       "      <td>1227712107314688</td>\n",
       "      <td>43.195868</td>\n",
       "      <td>1.928423</td>\n",
       "      <td>1400.291765</td>\n",
       "      <td>-515.645438</td>\n",
       "      <td>13.919317</td>\n",
       "      <td>14.903977</td>\n",
       "      <td>12.939081</td>\n",
       "    </tr>\n",
       "    <tr>\n",
       "      <th>...</th>\n",
       "      <td>...</td>\n",
       "      <td>...</td>\n",
       "      <td>...</td>\n",
       "      <td>...</td>\n",
       "      <td>...</td>\n",
       "      <td>...</td>\n",
       "      <td>...</td>\n",
       "      <td>...</td>\n",
       "    </tr>\n",
       "    <tr>\n",
       "      <th>3445176671119583786</th>\n",
       "      <td>6890353330746858368</td>\n",
       "      <td>314.193986</td>\n",
       "      <td>-10.453538</td>\n",
       "      <td>-37.079544</td>\n",
       "      <td>-1124.455038</td>\n",
       "      <td>10.418879</td>\n",
       "      <td>11.718892</td>\n",
       "      <td>9.285866</td>\n",
       "    </tr>\n",
       "    <tr>\n",
       "      <th>3445567357812853734</th>\n",
       "      <td>6891134705556330880</td>\n",
       "      <td>322.516126</td>\n",
       "      <td>-12.511222</td>\n",
       "      <td>1019.79614</td>\n",
       "      <td>-259.597456</td>\n",
       "      <td>8.540231</td>\n",
       "      <td>9.297098</td>\n",
       "      <td>7.690686</td>\n",
       "    </tr>\n",
       "  </tbody>\n",
       "</table>\n",
       "<p>633 rows × 8 columns</p>"
      ],
      "text/plain": [
       "                               source_id          ra        dec         pmra  \\\n",
       "_healpix_29                                                                    \n",
       "315264182406594          630505494719360   46.613135   1.961064    389.25305   \n",
       "613857838730173         1227712107314688   43.195868   1.928423  1400.291765   \n",
       "...                                  ...         ...        ...          ...   \n",
       "3445176671119583786  6890353330746858368  314.193986 -10.453538   -37.079544   \n",
       "3445567357812853734  6891134705556330880  322.516126 -12.511222   1019.79614   \n",
       "\n",
       "                           pmdec  phot_g_mean_mag  phot_bp_mean_mag  \\\n",
       "_healpix_29                                                           \n",
       "315264182406594       -925.02626         8.457596          9.291474   \n",
       "613857838730173      -515.645438        13.919317         14.903977   \n",
       "...                          ...              ...               ...   \n",
       "3445176671119583786 -1124.455038        10.418879         11.718892   \n",
       "3445567357812853734  -259.597456         8.540231          9.297098   \n",
       "\n",
       "                     phot_rp_mean_mag  \n",
       "_healpix_29                            \n",
       "315264182406594              7.563784  \n",
       "613857838730173             12.939081  \n",
       "...                               ...  \n",
       "3445176671119583786          9.285866  \n",
       "3445567357812853734          7.690686  \n",
       "\n",
       "[633 rows x 8 columns]"
      ]
     },
     "execution_count": 36,
     "metadata": {},
     "output_type": "execute_result"
    }
   ],
   "source": [
    "gaia_pm_greater_1000 = lsdb.read_hats(GAIA_1000_DIR).compute()\n",
    "print(len(gaia_pm_greater_2000))\n",
    "gaia_pm_greater_1000"
   ]
  },
  {
   "cell_type": "markdown",
   "id": "a0a68e71-28ab-488e-90a9-352597975f21",
   "metadata": {},
   "source": [
    "## Obtaining relevant Catalogs"
   ]
  },
  {
   "cell_type": "code",
   "execution_count": 38,
   "id": "d50c65ed-8c13-4138-848e-44cf3b0d9f33",
   "metadata": {},
   "outputs": [],
   "source": [
    "ztf_14_obj = lsdb.read_hats('../../../shared/hats/catalogs/ztf_dr14/ztf_object')\n",
    "ztf_16 = lsdb.read_hats('../../../shared/hats/catalogs/ztf_dr16/zubercal')\n",
    "ztf_22 = lsdb.read_hats('https://data.lsdb.io/hats/ztf_dr22/ztf_lc', margin_cache='https://data.lsdb.io/hats/ztf_dr22/ztf_lc_10arcs')\n",
    "panstarrs_1_obj = lsdb.read_hats('s3://stpubdata/panstarrs/ps1/public/hats/otmo', margin_cache='s3://stpubdata/panstarrs/ps1/public/hats/otmo_10arcs')\n",
    "des_y6 = lsdb.read_hats('../../../shared/hats/catalogs/des/des_y6_gold')\n",
    "delve_2 = lsdb.read_hats('https://data.lsdb.io/hats/delve_dr2')\n",
    "tic_v82 = lsdb.read_hats('https://data.lsdb.io/hats/tic/tic', margin_cache='https://data.lsdb.io/hats/tic/tic_10arcs')\n",
    "allwise = lsdb.read_hats('https://data.lsdb.io/hats/wise/allwise')\n",
    "neowise = lsdb.read_hats('https://data.lsdb.io/hats/wise/neowise')\n",
    "twomass = lsdb.read_hats('https://data.lsdb.io/hats/two_mass')\n",
    "erass1 = lsdb.read_hats('https://data.lsdb.io/hats/erosita')\n",
    "# These raise FileNotFound errors:\n",
    "# splus_dual = lsdb.read_hats('https://splus.cloud/HIPS/catalogs/dr4/dual', margin_cache='https://splus.cloud/HIPS/catalogs/dr4/dual_2arcsec')\n",
    "# splus_psf = lsdb.read_hats('https://splus.cloud/HIPS/catalogs/dr4/psf', margin_cache='https://splus.cloud/HIPS/catalogs/dr4/psf_2arcsec')\n",
    "hsc_p3_r = lsdb.read_hats('../../../shared/hats/catalogs/hsc_pdr3/hsc_pdr3-forced-R', margin_cache='../../../shared/hats/catalogs/hsc_pdr3/hsc_pdr3-forced-R_10arcs')\n",
    "skymapper_4_photometry = lsdb.read_hats('https://data.lsdb.io/hats/skymapper_dr4/photometry')\n",
    "\n",
    "catalogs = [ztf_14_obj,\n",
    "            ztf_16,\n",
    "            ztf_22,\n",
    "            panstarrs_1_obj,\n",
    "            des_y6,\n",
    "            delve_2,\n",
    "            tic_v82,\n",
    "            allwise,\n",
    "            neowise,\n",
    "            twomass,\n",
    "            erass1,\n",
    "            hsc_p3_r,\n",
    "            skymapper_4_photometry]\n",
    "\n",
    "catalog_names = ['ztf_14_obj',\n",
    "            'ztf_16',\n",
    "            'ztf_22',\n",
    "            'panstarrs_1_obj',\n",
    "            'des_y6',\n",
    "            'delve_2',\n",
    "            'tic_v82',\n",
    "            'allwise',\n",
    "            'neowise',\n",
    "            'twomass',\n",
    "            'erass1',\n",
    "            'hsc_p3_r',\n",
    "            'skymapper_4_photometry']"
   ]
  },
  {
   "cell_type": "code",
   "execution_count": 41,
   "id": "292cb7bf-8787-4a67-995d-e3a53c6f01d6",
   "metadata": {
    "scrolled": true
   },
   "outputs": [],
   "source": [
    "'''df.apply() compatible fuction which takes the ra and dec coordinates from a gaia df and checks wether the catalogs in catalogs[] \n",
    "contain those sky coordinates.\n",
    "\n",
    "Args:\n",
    "    - row: Passed by df.apply(), row from df which is where we obtain our coordinates.\n",
    "    - catalogs: List of catalogs in HATS format.\n",
    "    - catalog_names: List of catalog names, should align with those in catalogs.\n",
    "\n",
    "Returns: row with original columns + boolean columns stating wether or not the catalog in catalogs contains those coordinates\n",
    "'''\n",
    "\n",
    "def coords_in_catalogs(row, catalogs, catalog_names):\n",
    "    ra = row['ra']\n",
    "    dec = row['dec']\n",
    "\n",
    "    for catalog, catalog_name in zip(catalogs, catalog_names):\n",
    "        row[f'{catalog_name}_contains'] = catalog.hc_structure.moc.contains_skycoords(SkyCoord(ra=ra, dec=dec, unit='deg'))\n",
    "\n",
    "    return row[row.columns + catalog_names]"
   ]
  },
  {
   "cell_type": "code",
   "execution_count": 44,
   "id": "1909ecfd-9aea-44a5-833e-a84250b397bf",
   "metadata": {},
   "outputs": [
    {
     "ename": "KeyError",
     "evalue": "'ra'",
     "output_type": "error",
     "traceback": [
      "\u001b[31m---------------------------------------------------------------------------\u001b[39m",
      "\u001b[31mKeyError\u001b[39m                                  Traceback (most recent call last)",
      "\u001b[36mFile \u001b[39m\u001b[32m~/.local/lib/python3.12/site-packages/pandas/core/indexes/base.py:3805\u001b[39m, in \u001b[36mIndex.get_loc\u001b[39m\u001b[34m(self, key)\u001b[39m\n\u001b[32m   3804\u001b[39m \u001b[38;5;28;01mtry\u001b[39;00m:\n\u001b[32m-> \u001b[39m\u001b[32m3805\u001b[39m     \u001b[38;5;28;01mreturn\u001b[39;00m \u001b[38;5;28;43mself\u001b[39;49m\u001b[43m.\u001b[49m\u001b[43m_engine\u001b[49m\u001b[43m.\u001b[49m\u001b[43mget_loc\u001b[49m\u001b[43m(\u001b[49m\u001b[43mcasted_key\u001b[49m\u001b[43m)\u001b[49m\n\u001b[32m   3806\u001b[39m \u001b[38;5;28;01mexcept\u001b[39;00m \u001b[38;5;167;01mKeyError\u001b[39;00m \u001b[38;5;28;01mas\u001b[39;00m err:\n",
      "\u001b[36mFile \u001b[39m\u001b[32mindex.pyx:167\u001b[39m, in \u001b[36mpandas._libs.index.IndexEngine.get_loc\u001b[39m\u001b[34m()\u001b[39m\n",
      "\u001b[36mFile \u001b[39m\u001b[32mindex.pyx:175\u001b[39m, in \u001b[36mpandas._libs.index.IndexEngine.get_loc\u001b[39m\u001b[34m()\u001b[39m\n",
      "\u001b[36mFile \u001b[39m\u001b[32mpandas/_libs/index_class_helper.pxi:86\u001b[39m, in \u001b[36mpandas._libs.index.MaskedInt64Engine._check_type\u001b[39m\u001b[34m()\u001b[39m\n",
      "\u001b[31mKeyError\u001b[39m: 'ra'",
      "\nThe above exception was the direct cause of the following exception:\n",
      "\u001b[31mKeyError\u001b[39m                                  Traceback (most recent call last)",
      "\u001b[36mCell\u001b[39m\u001b[36m \u001b[39m\u001b[32mIn[44]\u001b[39m\u001b[32m, line 1\u001b[39m\n\u001b[32m----> \u001b[39m\u001b[32m1\u001b[39m gaia_pm_greater_1000 = \u001b[43mgaia_pm_greater_1000\u001b[49m\u001b[43m.\u001b[49m\u001b[43mapply\u001b[49m\u001b[43m(\u001b[49m\u001b[43mcoords_in_catalogs\u001b[49m\u001b[43m,\u001b[49m\u001b[43m \u001b[49m\u001b[43mcatalogs\u001b[49m\u001b[43m=\u001b[49m\u001b[43mcatalogs\u001b[49m\u001b[43m,\u001b[49m\u001b[43m \u001b[49m\u001b[43mcatalog_names\u001b[49m\u001b[43m=\u001b[49m\u001b[43mcatalog_names\u001b[49m\u001b[43m)\u001b[49m\n\u001b[32m      2\u001b[39m gaia_pm_greater_1000\n",
      "\u001b[36mFile \u001b[39m\u001b[32m~/.local/lib/python3.12/site-packages/pandas/core/frame.py:10374\u001b[39m, in \u001b[36mDataFrame.apply\u001b[39m\u001b[34m(self, func, axis, raw, result_type, args, by_row, engine, engine_kwargs, **kwargs)\u001b[39m\n\u001b[32m  10360\u001b[39m \u001b[38;5;28;01mfrom\u001b[39;00m\u001b[38;5;250m \u001b[39m\u001b[34;01mpandas\u001b[39;00m\u001b[34;01m.\u001b[39;00m\u001b[34;01mcore\u001b[39;00m\u001b[34;01m.\u001b[39;00m\u001b[34;01mapply\u001b[39;00m\u001b[38;5;250m \u001b[39m\u001b[38;5;28;01mimport\u001b[39;00m frame_apply\n\u001b[32m  10362\u001b[39m op = frame_apply(\n\u001b[32m  10363\u001b[39m     \u001b[38;5;28mself\u001b[39m,\n\u001b[32m  10364\u001b[39m     func=func,\n\u001b[32m   (...)\u001b[39m\u001b[32m  10372\u001b[39m     kwargs=kwargs,\n\u001b[32m  10373\u001b[39m )\n\u001b[32m> \u001b[39m\u001b[32m10374\u001b[39m \u001b[38;5;28;01mreturn\u001b[39;00m \u001b[43mop\u001b[49m\u001b[43m.\u001b[49m\u001b[43mapply\u001b[49m\u001b[43m(\u001b[49m\u001b[43m)\u001b[49m.__finalize__(\u001b[38;5;28mself\u001b[39m, method=\u001b[33m\"\u001b[39m\u001b[33mapply\u001b[39m\u001b[33m\"\u001b[39m)\n",
      "\u001b[36mFile \u001b[39m\u001b[32m~/.local/lib/python3.12/site-packages/pandas/core/apply.py:916\u001b[39m, in \u001b[36mFrameApply.apply\u001b[39m\u001b[34m(self)\u001b[39m\n\u001b[32m    913\u001b[39m \u001b[38;5;28;01melif\u001b[39;00m \u001b[38;5;28mself\u001b[39m.raw:\n\u001b[32m    914\u001b[39m     \u001b[38;5;28;01mreturn\u001b[39;00m \u001b[38;5;28mself\u001b[39m.apply_raw(engine=\u001b[38;5;28mself\u001b[39m.engine, engine_kwargs=\u001b[38;5;28mself\u001b[39m.engine_kwargs)\n\u001b[32m--> \u001b[39m\u001b[32m916\u001b[39m \u001b[38;5;28;01mreturn\u001b[39;00m \u001b[38;5;28;43mself\u001b[39;49m\u001b[43m.\u001b[49m\u001b[43mapply_standard\u001b[49m\u001b[43m(\u001b[49m\u001b[43m)\u001b[49m\n",
      "\u001b[36mFile \u001b[39m\u001b[32m~/.local/lib/python3.12/site-packages/pandas/core/apply.py:1063\u001b[39m, in \u001b[36mFrameApply.apply_standard\u001b[39m\u001b[34m(self)\u001b[39m\n\u001b[32m   1061\u001b[39m \u001b[38;5;28;01mdef\u001b[39;00m\u001b[38;5;250m \u001b[39m\u001b[34mapply_standard\u001b[39m(\u001b[38;5;28mself\u001b[39m):\n\u001b[32m   1062\u001b[39m     \u001b[38;5;28;01mif\u001b[39;00m \u001b[38;5;28mself\u001b[39m.engine == \u001b[33m\"\u001b[39m\u001b[33mpython\u001b[39m\u001b[33m\"\u001b[39m:\n\u001b[32m-> \u001b[39m\u001b[32m1063\u001b[39m         results, res_index = \u001b[38;5;28;43mself\u001b[39;49m\u001b[43m.\u001b[49m\u001b[43mapply_series_generator\u001b[49m\u001b[43m(\u001b[49m\u001b[43m)\u001b[49m\n\u001b[32m   1064\u001b[39m     \u001b[38;5;28;01melse\u001b[39;00m:\n\u001b[32m   1065\u001b[39m         results, res_index = \u001b[38;5;28mself\u001b[39m.apply_series_numba()\n",
      "\u001b[36mFile \u001b[39m\u001b[32m~/.local/lib/python3.12/site-packages/pandas/core/apply.py:1081\u001b[39m, in \u001b[36mFrameApply.apply_series_generator\u001b[39m\u001b[34m(self)\u001b[39m\n\u001b[32m   1078\u001b[39m \u001b[38;5;28;01mwith\u001b[39;00m option_context(\u001b[33m\"\u001b[39m\u001b[33mmode.chained_assignment\u001b[39m\u001b[33m\"\u001b[39m, \u001b[38;5;28;01mNone\u001b[39;00m):\n\u001b[32m   1079\u001b[39m     \u001b[38;5;28;01mfor\u001b[39;00m i, v \u001b[38;5;129;01min\u001b[39;00m \u001b[38;5;28menumerate\u001b[39m(series_gen):\n\u001b[32m   1080\u001b[39m         \u001b[38;5;66;03m# ignore SettingWithCopy here in case the user mutates\u001b[39;00m\n\u001b[32m-> \u001b[39m\u001b[32m1081\u001b[39m         results[i] = \u001b[38;5;28;43mself\u001b[39;49m\u001b[43m.\u001b[49m\u001b[43mfunc\u001b[49m\u001b[43m(\u001b[49m\u001b[43mv\u001b[49m\u001b[43m,\u001b[49m\u001b[43m \u001b[49m\u001b[43m*\u001b[49m\u001b[38;5;28;43mself\u001b[39;49m\u001b[43m.\u001b[49m\u001b[43margs\u001b[49m\u001b[43m,\u001b[49m\u001b[43m \u001b[49m\u001b[43m*\u001b[49m\u001b[43m*\u001b[49m\u001b[38;5;28;43mself\u001b[39;49m\u001b[43m.\u001b[49m\u001b[43mkwargs\u001b[49m\u001b[43m)\u001b[49m\n\u001b[32m   1082\u001b[39m         \u001b[38;5;28;01mif\u001b[39;00m \u001b[38;5;28misinstance\u001b[39m(results[i], ABCSeries):\n\u001b[32m   1083\u001b[39m             \u001b[38;5;66;03m# If we have a view on v, we need to make a copy because\u001b[39;00m\n\u001b[32m   1084\u001b[39m             \u001b[38;5;66;03m#  series_generator will swap out the underlying data\u001b[39;00m\n\u001b[32m   1085\u001b[39m             results[i] = results[i].copy(deep=\u001b[38;5;28;01mFalse\u001b[39;00m)\n",
      "\u001b[36mCell\u001b[39m\u001b[36m \u001b[39m\u001b[32mIn[41]\u001b[39m\u001b[32m, line 13\u001b[39m, in \u001b[36mcoords_in_catalogs\u001b[39m\u001b[34m(row, catalogs, catalog_names)\u001b[39m\n\u001b[32m     12\u001b[39m \u001b[38;5;28;01mdef\u001b[39;00m\u001b[38;5;250m \u001b[39m\u001b[34mcoords_in_catalogs\u001b[39m(row, catalogs=catalogs, catalog_names=catalog_names):\n\u001b[32m---> \u001b[39m\u001b[32m13\u001b[39m     ra = \u001b[43mrow\u001b[49m\u001b[43m[\u001b[49m\u001b[33;43m'\u001b[39;49m\u001b[33;43mra\u001b[39;49m\u001b[33;43m'\u001b[39;49m\u001b[43m]\u001b[49m\n\u001b[32m     14\u001b[39m     dec = row[\u001b[33m'\u001b[39m\u001b[33mdec\u001b[39m\u001b[33m'\u001b[39m]\n\u001b[32m     16\u001b[39m     \u001b[38;5;28;01mfor\u001b[39;00m catalog, catalog_name \u001b[38;5;129;01min\u001b[39;00m \u001b[38;5;28mzip\u001b[39m(catalogs, catalog_names):\n",
      "\u001b[36mFile \u001b[39m\u001b[32m~/.local/lib/python3.12/site-packages/pandas/core/series.py:1121\u001b[39m, in \u001b[36mSeries.__getitem__\u001b[39m\u001b[34m(self, key)\u001b[39m\n\u001b[32m   1118\u001b[39m     \u001b[38;5;28;01mreturn\u001b[39;00m \u001b[38;5;28mself\u001b[39m._values[key]\n\u001b[32m   1120\u001b[39m \u001b[38;5;28;01melif\u001b[39;00m key_is_scalar:\n\u001b[32m-> \u001b[39m\u001b[32m1121\u001b[39m     \u001b[38;5;28;01mreturn\u001b[39;00m \u001b[38;5;28;43mself\u001b[39;49m\u001b[43m.\u001b[49m\u001b[43m_get_value\u001b[49m\u001b[43m(\u001b[49m\u001b[43mkey\u001b[49m\u001b[43m)\u001b[49m\n\u001b[32m   1123\u001b[39m \u001b[38;5;66;03m# Convert generator to list before going through hashable part\u001b[39;00m\n\u001b[32m   1124\u001b[39m \u001b[38;5;66;03m# (We will iterate through the generator there to check for slices)\u001b[39;00m\n\u001b[32m   1125\u001b[39m \u001b[38;5;28;01mif\u001b[39;00m is_iterator(key):\n",
      "\u001b[36mFile \u001b[39m\u001b[32m~/.local/lib/python3.12/site-packages/pandas/core/series.py:1237\u001b[39m, in \u001b[36mSeries._get_value\u001b[39m\u001b[34m(self, label, takeable)\u001b[39m\n\u001b[32m   1234\u001b[39m     \u001b[38;5;28;01mreturn\u001b[39;00m \u001b[38;5;28mself\u001b[39m._values[label]\n\u001b[32m   1236\u001b[39m \u001b[38;5;66;03m# Similar to Index.get_value, but we do not fall back to positional\u001b[39;00m\n\u001b[32m-> \u001b[39m\u001b[32m1237\u001b[39m loc = \u001b[38;5;28;43mself\u001b[39;49m\u001b[43m.\u001b[49m\u001b[43mindex\u001b[49m\u001b[43m.\u001b[49m\u001b[43mget_loc\u001b[49m\u001b[43m(\u001b[49m\u001b[43mlabel\u001b[49m\u001b[43m)\u001b[49m\n\u001b[32m   1239\u001b[39m \u001b[38;5;28;01mif\u001b[39;00m is_integer(loc):\n\u001b[32m   1240\u001b[39m     \u001b[38;5;28;01mreturn\u001b[39;00m \u001b[38;5;28mself\u001b[39m._values[loc]\n",
      "\u001b[36mFile \u001b[39m\u001b[32m~/.local/lib/python3.12/site-packages/pandas/core/indexes/base.py:3812\u001b[39m, in \u001b[36mIndex.get_loc\u001b[39m\u001b[34m(self, key)\u001b[39m\n\u001b[32m   3807\u001b[39m     \u001b[38;5;28;01mif\u001b[39;00m \u001b[38;5;28misinstance\u001b[39m(casted_key, \u001b[38;5;28mslice\u001b[39m) \u001b[38;5;129;01mor\u001b[39;00m (\n\u001b[32m   3808\u001b[39m         \u001b[38;5;28misinstance\u001b[39m(casted_key, abc.Iterable)\n\u001b[32m   3809\u001b[39m         \u001b[38;5;129;01mand\u001b[39;00m \u001b[38;5;28many\u001b[39m(\u001b[38;5;28misinstance\u001b[39m(x, \u001b[38;5;28mslice\u001b[39m) \u001b[38;5;28;01mfor\u001b[39;00m x \u001b[38;5;129;01min\u001b[39;00m casted_key)\n\u001b[32m   3810\u001b[39m     ):\n\u001b[32m   3811\u001b[39m         \u001b[38;5;28;01mraise\u001b[39;00m InvalidIndexError(key)\n\u001b[32m-> \u001b[39m\u001b[32m3812\u001b[39m     \u001b[38;5;28;01mraise\u001b[39;00m \u001b[38;5;167;01mKeyError\u001b[39;00m(key) \u001b[38;5;28;01mfrom\u001b[39;00m\u001b[38;5;250m \u001b[39m\u001b[34;01merr\u001b[39;00m\n\u001b[32m   3813\u001b[39m \u001b[38;5;28;01mexcept\u001b[39;00m \u001b[38;5;167;01mTypeError\u001b[39;00m:\n\u001b[32m   3814\u001b[39m     \u001b[38;5;66;03m# If we have a listlike key, _check_indexing_error will raise\u001b[39;00m\n\u001b[32m   3815\u001b[39m     \u001b[38;5;66;03m#  InvalidIndexError. Otherwise we fall through and re-raise\u001b[39;00m\n\u001b[32m   3816\u001b[39m     \u001b[38;5;66;03m#  the TypeError.\u001b[39;00m\n\u001b[32m   3817\u001b[39m     \u001b[38;5;28mself\u001b[39m._check_indexing_error(key)\n",
      "\u001b[31mKeyError\u001b[39m: 'ra'"
     ]
    }
   ],
   "source": [
    "gaia_pm_greater_1000 = gaia_pm_greater_1000.apply(coords_in_catalogs, catalogs=catalogs, catalog_names=catalog_names)\n",
    "gaia_pm_greater_1000"
   ]
  },
  {
   "cell_type": "code",
   "execution_count": null,
   "id": "a396b3d4-eb4a-4d66-b54a-bb51e3ed87da",
   "metadata": {},
   "outputs": [],
   "source": []
  }
 ],
 "metadata": {
  "kernelspec": {
   "display_name": "lsdb-main",
   "language": "python",
   "name": "lsdb-main"
  },
  "language_info": {
   "codemirror_mode": {
    "name": "ipython",
    "version": 3
   },
   "file_extension": ".py",
   "mimetype": "text/x-python",
   "name": "python",
   "nbconvert_exporter": "python",
   "pygments_lexer": "ipython3",
   "version": "3.12.9"
  }
 },
 "nbformat": 4,
 "nbformat_minor": 5
}
