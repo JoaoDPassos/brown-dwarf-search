{
 "cells": [
  {
   "cell_type": "code",
   "execution_count": 7,
   "id": "bfa61bfd-7346-4556-b2fa-f462ac5c720d",
   "metadata": {},
   "outputs": [
    {
     "name": "stdout",
     "output_type": "stream",
     "text": [
      "Imported Libraries\n"
     ]
    }
   ],
   "source": [
    "from pathlib import Path\n",
    "\n",
    "import numpy as np\n",
    "from astropy.io import ascii\n",
    "import matplotlib.pyplot as plt\n",
    "\n",
    "from dask.distributed import Client\n",
    "import dask.array\n",
    "from dask.dataframe.utils import make_meta\n",
    "\n",
    "from hats import read_hats\n",
    "from hats.inspection import plot_pixels\n",
    "from hats_import.catalog.file_readers import CsvReader\n",
    "from hats_import.margin_cache.margin_cache_arguments import MarginCacheArguments\n",
    "from hats_import.pipeline import ImportArguments, pipeline_with_client\n",
    "\n",
    "import lsdb\n",
    "\n",
    "from catalog_filtering import bandFilterLenient, contains_PM\n",
    "\n",
    "print(\"Imported Libraries\")"
   ]
  },
  {
   "cell_type": "code",
   "execution_count": 8,
   "id": "ed9cff19-43d9-4d54-8361-9458d8a3258c",
   "metadata": {},
   "outputs": [
    {
     "name": "stdout",
     "output_type": "stream",
     "text": [
      "Defined directories\n"
     ]
    }
   ],
   "source": [
    "DES_HATS_DIR = Path(\"../../../shared/hats/catalogs/des/des_dr2\")\n",
    "GAIA_HATS_DIR = Path(\"../../../shared/hats/catalogs/gaia_dr3/gaia\")\n",
    "\n",
    "CATALOG_DIR = Path(\"../../catalogs\")\n",
    "\n",
    "GAIA_PM_NAME = \"gaia_dr3_pm_greater_100\"\n",
    "GAIA_PM_DIR = CATALOG_DIR / GAIA_PM_NAME\n",
    "\n",
    "DES_LIGHT_NAME = \"des_light\"\n",
    "DES_LIGHT_DIR = CATALOG_DIR / DES_LIGHT_NAME\n",
    "\n",
    "XMATCH_NAME = \"des_dr2_x_gaia_dr3\"\n",
    "XMATCH_DIR = CATALOG_DIR / XMATCH_NAME\n",
    "\n",
    "print(\"Defined directories\")"
   ]
  },
  {
   "cell_type": "code",
   "execution_count": 9,
   "id": "0e482fe7-144e-4fbc-9cf9-774552acaf88",
   "metadata": {},
   "outputs": [
    {
     "name": "stdout",
     "output_type": "stream",
     "text": [
      "Defined filter variables\n"
     ]
    }
   ],
   "source": [
    "bandList = ['G','R','I','Z','Y']\n",
    "class_star = None\n",
    "spread_model = 0.05\n",
    "magnitude_error = 0.05\n",
    "check_flags = True\n",
    "check_invalid_mags = True\n",
    "query_string = bandFilterLenient(bandList,classStar=class_star,spreadModel=spread_model,magError=magnitude_error,flag=check_flags,invalidMags=check_invalid_mags)\n",
    "des_cols = (\n",
    "    [f'CLASS_STAR_{band}' for band in bandList] + \n",
    "    [f'FLAGS_{band}' for band in bandList] + \n",
    "    ['RA','DEC','COADD_OBJECT_ID'] + \n",
    "    [f'SPREAD_MODEL_{band}' for band in bandList] + \n",
    "    [f'WAVG_MAG_PSF_{band}' for band in bandList] + \n",
    "    [f'WAVG_MAGERR_PSF_{band}' for band in bandList]\n",
    ")\n",
    "pm_speed_min = 2000 #units are milliseconds per year\n",
    "pm_speed_max = 10**5\n",
    "print(\"Defined filter variables\")"
   ]
  },
  {
   "cell_type": "code",
   "execution_count": 10,
   "id": "9ee14ade-0129-4482-8c2b-04788abdb4b6",
   "metadata": {},
   "outputs": [
    {
     "name": "stderr",
     "output_type": "stream",
     "text": [
      "2025-05-21 16:21:31,670 - distributed.nanny - WARNING - Worker process still alive after 4.0 seconds, killing\n",
      "2025-05-21 16:21:31,690 - distributed.nanny - WARNING - Worker process still alive after 4.0 seconds, killing\n",
      "2025-05-21 16:21:31,691 - distributed.nanny - WARNING - Worker process still alive after 4.0 seconds, killing\n",
      "2025-05-21 16:21:31,691 - distributed.nanny - WARNING - Worker process still alive after 4.0 seconds, killing\n"
     ]
    },
    {
     "name": "stdout",
     "output_type": "stream",
     "text": [
      "gaia_pm successfully saved to /catalog\n",
      "CPU times: user 58.7 s, sys: 3.23 s, total: 1min 1s\n",
      "Wall time: 2min 55s\n"
     ]
    }
   ],
   "source": [
    "%%time\n",
    "\n",
    "with Client(n_workers=4):\n",
    "    lsdb.read_hats(\n",
    "        path=GAIA_HATS_DIR,\n",
    "        columns=['ra', 'pmra', 'dec', 'pmdec', 'source_id', 'parallax_over_error'],\n",
    "    ).query('pmra*pmra + pmdec*pmdec > 100*100').to_hats(catalog_name = GAIA_PM_NAME, \n",
    "                                                        base_catalog_path = GAIA_PM_DIR)\n",
    "\n",
    "print(\"gaia_pm successfully saved to /catalog\")"
   ]
  },
  {
   "cell_type": "code",
   "execution_count": null,
   "id": "96431d46-7351-417c-a1b5-f5c93fe21449",
   "metadata": {},
   "outputs": [],
   "source": [
    "%%time\n",
    "\n",
    "with Client(n_workers=4) as client:\n",
    "    lsdb.read_hats(\n",
    "        DES_HATS_DIR,\n",
    "        columns=des_cols,\n",
    "    ).to_hats(catalog_name = DES_LIGHT_NAME, \n",
    "                base_catalog_path = DES_LIGHT_DIR)"
   ]
  },
  {
   "cell_type": "code",
   "execution_count": null,
   "id": "76106908-0399-45a8-8031-755832b3fd1f",
   "metadata": {},
   "outputs": [],
   "source": []
  }
 ],
 "metadata": {
  "kernelspec": {
   "display_name": "lsdb-main",
   "language": "python",
   "name": "lsdb-main"
  },
  "language_info": {
   "codemirror_mode": {
    "name": "ipython",
    "version": 3
   },
   "file_extension": ".py",
   "mimetype": "text/x-python",
   "name": "python",
   "nbconvert_exporter": "python",
   "pygments_lexer": "ipython3",
   "version": "3.12.9"
  }
 },
 "nbformat": 4,
 "nbformat_minor": 5
}
