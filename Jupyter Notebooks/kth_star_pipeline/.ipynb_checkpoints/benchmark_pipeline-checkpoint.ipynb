{
 "cells": [
  {
   "cell_type": "code",
   "execution_count": 1,
   "id": "176b2888-bac6-43b2-82de-b5b502a64040",
   "metadata": {},
   "outputs": [
    {
     "name": "stdout",
     "output_type": "stream",
     "text": [
      "Imported libraries.\n"
     ]
    }
   ],
   "source": [
    "# Dask puts out more advisory logging that we care for.\n",
    "# It takes some doing to quiet all of it, but this recipe works.\n",
    "import dask\n",
    "import logging\n",
    "import dask_jobqueue\n",
    "from dask.dataframe.utils import make_meta\n",
    "from dask.distributed import Client\n",
    "\n",
    "dask.config.set({\"logging.distributed\": \"critical\"})\n",
    "\n",
    "# This also has to be done, for the above to be effective\n",
    "logger = logging.getLogger(\"distributed\")\n",
    "logger.setLevel(logging.CRITICAL)\n",
    "\n",
    "import warnings\n",
    "\n",
    "# Finally, suppress the specific warning about Dask dashboard port usage\n",
    "warnings.filterwarnings(\"ignore\", message=\"Port 8787 is already in use.\")\n",
    "\n",
    "from pathlib import Path\n",
    "\n",
    "import numpy as np\n",
    "import pandas as pd\n",
    "from astropy.io import ascii\n",
    "import matplotlib.pyplot as plt\n",
    "import time\n",
    "\n",
    "from hats import read_hats\n",
    "\n",
    "import lsdb\n",
    "\n",
    "from catalog_filtering import bandFilterLenient, contains_PM\n",
    "import hpms_pipeline as hpms\n",
    "\n",
    "print(\"Imported libraries.\")"
   ]
  },
  {
   "cell_type": "code",
   "execution_count": 2,
   "id": "082068e7-5f03-4657-948d-3f921c8610ad",
   "metadata": {},
   "outputs": [
    {
     "name": "stdout",
     "output_type": "stream",
     "text": [
      "Defined Vars\n"
     ]
    }
   ],
   "source": [
    "# Catalog & Directory variables\n",
    "CATALOG_DIR = Path(\"../../catalogs\")\n",
    "MC_DIR = CATALOG_DIR / \"margin_caches\"\n",
    "DES_NAME = \"des_light\"\n",
    "DES_DIR = CATALOG_DIR / DES_NAME\n",
    "DES_MARGIN_CACHE_NAME = \"des_margin_cache_18_arcsec\"\n",
    "DES_MARGIN_CACHE_DIR = MC_DIR / DES_MARGIN_CACHE_NAME\n",
    "des_dr2 = lsdb.read_hats(DES_DIR, margin_cache=DES_MARGIN_CACHE_DIR)\n",
    "gaia_high_pm_stars = pd.read_csv('previous_work/algo_gaia_verified.csv',usecols=['ra_gaia', 'dec_gaia', 'source_id_gaia'])\n",
    "\n",
    "# Filter variables\n",
    "bandList = ['G','R','I','Z','Y']\n",
    "class_star = None\n",
    "spread_model = 0.05\n",
    "magnitude_error = 0.05\n",
    "check_flags = True\n",
    "check_invalid_mags = True\n",
    "query_string = bandFilterLenient(\n",
    "    bandList,\n",
    "    classStar=class_star,\n",
    "    spreadModel=spread_model,\n",
    "    magError=magnitude_error,\n",
    "    flag=check_flags,\n",
    "    invalidMags=check_invalid_mags\n",
    ")\n",
    "des_cols = (\n",
    "    [f'CLASS_STAR_{band}' for band in bandList] + \n",
    "    [f'FLAGS_{band}' for band in bandList] + \n",
    "    ['RA','DEC','COADD_OBJECT_ID'] + \n",
    "    [f'SPREAD_MODEL_{band}' for band in bandList] + \n",
    "    [f'WAVG_MAG_PSF_{band}' for band in bandList] + \n",
    "    [f'WAVG_MAGERR_PSF_{band}' for band in bandList]\n",
    ")\n",
    "des_id_col = 'COADD_OBJECT_ID_1'\n",
    "\n",
    "#Algorithm variables\n",
    "k = 1\n",
    "max_obj_deviation = 0.2\n",
    "pm_speed_min = 2000 #units are milliseconds per year\n",
    "pm_speed_max = 10**5\n",
    "cone_search_rad = 7200 #two arcseconds\n",
    "max_neighbor_dist = 18\n",
    "xmatch_max_neighbors = 100\n",
    "min_neighbors = 3\n",
    "print(\"Defined Vars\")"
   ]
  },
  {
   "cell_type": "markdown",
   "id": "b02d8fe3-f2f2-429a-a1e9-ac5c1d413453",
   "metadata": {},
   "source": [
    "## Benchmarking Pipeline\n",
    "\n",
    "We will be benchmarking the pipeline on conesearches of 2 degrees in radius near known high PM stars. We will do this by iterating through rows of the known gaia high PM stars, and using their coordinates as the center of our cone searches. We also define a RunStats class which stores relevant data on a run."
   ]
  },
  {
   "cell_type": "code",
   "execution_count": 3,
   "id": "bd1b63d8-482a-472d-b465-a32e754bfb23",
   "metadata": {},
   "outputs": [],
   "source": [
    "BENCHMARK_CATALOG_DIR = CATALOG_DIR / 'benchmark_catalogs'\n",
    "\n",
    "def obtain_runtime_data(row, des_cols, cone_search_rad, query_string, \n",
    "                        xmatch_max_neighbors, max_neighbor_dist, min_neighbors,\n",
    "                        k, max_obj_deviation, id_col):\n",
    "    \n",
    "    TESTING_SET_NAME = str(row['source_id_gaia'])\n",
    "    TESTING_SET_DIR = BENCHMARK_CATALOG_DIR / TESTING_SET_NAME\n",
    "\n",
    "    des_dr2.cone_search(ra=row['ra_gaia'], \n",
    "                        dec=row['dec_gaia'], \n",
    "                        radius_arcsec=cone_search_rad).to_hats(catalog_name=TESTING_SET_NAME, base_catalog_path=TESTING_SET_DIR)\n",
    "\n",
    "    testing_set = lsdb.read_hats(TESTING_SET_DIR)\n",
    "    original_size = len(testing_set)\n",
    "\n",
    "    print(f\"Run {row['source_id_gaia']}\")\n",
    "\n",
    "    start_wall = time.time()\n",
    "    with Client():\n",
    "        df = hpms.execute_pipeline(testing_set, query_string=query_string, \n",
    "                                   xmatch_max_neighbors=xmatch_max_neighbors, \n",
    "                                   max_neighbor_dist=max_neighbor_dist, \n",
    "                                   min_neighbors=min_neighbors, \n",
    "                                   k=k, \n",
    "                                   max_obj_deviation=max_obj_deviation, \n",
    "                                   id_col=des_id_col).compute()\n",
    "    wall_time = time.time() - start_wall\n",
    "    print(\"Wall time:\", wall_time)\n",
    "    filtered_size = len(df)\n",
    "\n",
    "    # Compute derived values\n",
    "    area = np.pi * (cone_search_rad / 3600)**2  # convert arcsec to degrees\n",
    "    avg_density = original_size / area if area != 0 else 0\n",
    "    throughput = filtered_size / wall_time if wall_time != 0 else 0\n",
    "    filter_ratio = filtered_size / original_size if original_size != 0 else 0\n",
    "\n",
    "    return pd.Series({\n",
    "        f'original_size_{max_obj_deviation}': original_size,\n",
    "        f'filtered_size_{max_obj_deviation}': filtered_size,\n",
    "        f'wall_time_{max_obj_deviation}': wall_time,\n",
    "        f'area_{max_obj_deviation}': area,\n",
    "        f'avg_density_{max_obj_deviation}': avg_density,\n",
    "        f'throughput_{max_obj_deviation}': throughput,\n",
    "        f'filter_ratio_{max_obj_deviation}': filter_ratio\n",
    "    })"
   ]
  },
  {
   "cell_type": "code",
   "execution_count": 8,
   "id": "2582c5d2-9d37-4816-9cf0-8d40527e76c3",
   "metadata": {},
   "outputs": [
    {
     "name": "stdout",
     "output_type": "stream",
     "text": [
      "Run 2.306965202564744e+18\n"
     ]
    },
    {
     "name": "stderr",
     "output_type": "stream",
     "text": [
      "/ocean/projects/phy210048p/jpassos/conda-venvs/lsdb-main/lib/python3.12/site-packages/lsdb/dask/crossmatch_catalog_data.py:147: RuntimeWarning: Right catalog does not have a margin cache. Results may be incomplete and/or inaccurate.\n",
      "  warnings.warn(\n"
     ]
    },
    {
     "name": "stdout",
     "output_type": "stream",
     "text": [
      "Wall time: 153.8964614868164\n",
      "Run 2.5150372640410414e+18\n"
     ]
    },
    {
     "name": "stderr",
     "output_type": "stream",
     "text": [
      "/ocean/projects/phy210048p/jpassos/conda-venvs/lsdb-main/lib/python3.12/site-packages/lsdb/dask/crossmatch_catalog_data.py:147: RuntimeWarning: Right catalog does not have a margin cache. Results may be incomplete and/or inaccurate.\n",
      "  warnings.warn(\n"
     ]
    },
    {
     "name": "stdout",
     "output_type": "stream",
     "text": [
      "Wall time: 120.64593291282654\n",
      "Run 4.736655036868019e+18\n"
     ]
    },
    {
     "name": "stderr",
     "output_type": "stream",
     "text": [
      "/ocean/projects/phy210048p/jpassos/conda-venvs/lsdb-main/lib/python3.12/site-packages/lsdb/dask/crossmatch_catalog_data.py:147: RuntimeWarning: Right catalog does not have a margin cache. Results may be incomplete and/or inaccurate.\n",
      "  warnings.warn(\n"
     ]
    },
    {
     "name": "stdout",
     "output_type": "stream",
     "text": [
      "Wall time: 202.9105565547943\n",
      "Run 4.780100658292047e+18\n"
     ]
    },
    {
     "name": "stderr",
     "output_type": "stream",
     "text": [
      "/ocean/projects/phy210048p/jpassos/conda-venvs/lsdb-main/lib/python3.12/site-packages/lsdb/dask/crossmatch_catalog_data.py:147: RuntimeWarning: Right catalog does not have a margin cache. Results may be incomplete and/or inaccurate.\n",
      "  warnings.warn(\n"
     ]
    },
    {
     "name": "stdout",
     "output_type": "stream",
     "text": [
      "Wall time: 223.87223649024963\n",
      "Run 4.847957293278177e+18\n"
     ]
    },
    {
     "name": "stderr",
     "output_type": "stream",
     "text": [
      "/ocean/projects/phy210048p/jpassos/conda-venvs/lsdb-main/lib/python3.12/site-packages/lsdb/dask/crossmatch_catalog_data.py:147: RuntimeWarning: Right catalog does not have a margin cache. Results may be incomplete and/or inaccurate.\n",
      "  warnings.warn(\n"
     ]
    },
    {
     "name": "stdout",
     "output_type": "stream",
     "text": [
      "Wall time: 186.85373306274414\n",
      "Run 4.900108950849461e+18\n"
     ]
    },
    {
     "name": "stderr",
     "output_type": "stream",
     "text": [
      "/ocean/projects/phy210048p/jpassos/conda-venvs/lsdb-main/lib/python3.12/site-packages/lsdb/dask/crossmatch_catalog_data.py:147: RuntimeWarning: Right catalog does not have a margin cache. Results may be incomplete and/or inaccurate.\n",
      "  warnings.warn(\n"
     ]
    },
    {
     "name": "stdout",
     "output_type": "stream",
     "text": [
      "Wall time: 184.47028923034668\n",
      "Run 4.937000898856156e+18\n"
     ]
    },
    {
     "name": "stderr",
     "output_type": "stream",
     "text": [
      "/ocean/projects/phy210048p/jpassos/conda-venvs/lsdb-main/lib/python3.12/site-packages/lsdb/dask/crossmatch_catalog_data.py:147: RuntimeWarning: Right catalog does not have a margin cache. Results may be incomplete and/or inaccurate.\n",
      "  warnings.warn(\n"
     ]
    },
    {
     "name": "stdout",
     "output_type": "stream",
     "text": [
      "Wall time: 167.03853678703308\n",
      "Run 4.937000898856155e+18\n"
     ]
    },
    {
     "name": "stderr",
     "output_type": "stream",
     "text": [
      "/ocean/projects/phy210048p/jpassos/conda-venvs/lsdb-main/lib/python3.12/site-packages/lsdb/dask/crossmatch_catalog_data.py:147: RuntimeWarning: Right catalog does not have a margin cache. Results may be incomplete and/or inaccurate.\n",
      "  warnings.warn(\n"
     ]
    },
    {
     "name": "stdout",
     "output_type": "stream",
     "text": [
      "Wall time: 164.84233474731445\n",
      "Run 5.006232026455471e+18\n"
     ]
    },
    {
     "name": "stderr",
     "output_type": "stream",
     "text": [
      "/ocean/projects/phy210048p/jpassos/conda-venvs/lsdb-main/lib/python3.12/site-packages/lsdb/dask/crossmatch_catalog_data.py:147: RuntimeWarning: Right catalog does not have a margin cache. Results may be incomplete and/or inaccurate.\n",
      "  warnings.warn(\n"
     ]
    },
    {
     "name": "stdout",
     "output_type": "stream",
     "text": [
      "Wall time: 136.28556323051453\n",
      "Run 5.115463180914713e+18\n"
     ]
    },
    {
     "name": "stderr",
     "output_type": "stream",
     "text": [
      "/ocean/projects/phy210048p/jpassos/conda-venvs/lsdb-main/lib/python3.12/site-packages/lsdb/dask/crossmatch_catalog_data.py:147: RuntimeWarning: Right catalog does not have a margin cache. Results may be incomplete and/or inaccurate.\n",
      "  warnings.warn(\n"
     ]
    },
    {
     "name": "stdout",
     "output_type": "stream",
     "text": [
      "Wall time: 122.75536775588989\n",
      "Run 5.140693571158946e+18\n"
     ]
    },
    {
     "name": "stderr",
     "output_type": "stream",
     "text": [
      "/ocean/projects/phy210048p/jpassos/conda-venvs/lsdb-main/lib/python3.12/site-packages/lsdb/dask/crossmatch_catalog_data.py:147: RuntimeWarning: Right catalog does not have a margin cache. Results may be incomplete and/or inaccurate.\n",
      "  warnings.warn(\n"
     ]
    },
    {
     "name": "stdout",
     "output_type": "stream",
     "text": [
      "Wall time: 155.58996200561523\n",
      "Run 5.14069357115874e+18\n"
     ]
    },
    {
     "name": "stderr",
     "output_type": "stream",
     "text": [
      "/ocean/projects/phy210048p/jpassos/conda-venvs/lsdb-main/lib/python3.12/site-packages/lsdb/dask/crossmatch_catalog_data.py:147: RuntimeWarning: Right catalog does not have a margin cache. Results may be incomplete and/or inaccurate.\n",
      "  warnings.warn(\n"
     ]
    },
    {
     "name": "stdout",
     "output_type": "stream",
     "text": [
      "Wall time: 159.25143933296204\n",
      "Run 5.184938400096586e+18\n"
     ]
    },
    {
     "name": "stderr",
     "output_type": "stream",
     "text": [
      "/ocean/projects/phy210048p/jpassos/conda-venvs/lsdb-main/lib/python3.12/site-packages/lsdb/dask/crossmatch_catalog_data.py:147: RuntimeWarning: Right catalog does not have a margin cache. Results may be incomplete and/or inaccurate.\n",
      "  warnings.warn(\n"
     ]
    },
    {
     "name": "stdout",
     "output_type": "stream",
     "text": [
      "Wall time: 122.77346777915955\n",
      "Run 5.185493447310441e+18\n"
     ]
    },
    {
     "name": "stderr",
     "output_type": "stream",
     "text": [
      "/ocean/projects/phy210048p/jpassos/conda-venvs/lsdb-main/lib/python3.12/site-packages/lsdb/dask/crossmatch_catalog_data.py:147: RuntimeWarning: Right catalog does not have a margin cache. Results may be incomplete and/or inaccurate.\n",
      "  warnings.warn(\n"
     ]
    },
    {
     "name": "stdout",
     "output_type": "stream",
     "text": [
      "Wall time: 135.45927357673645\n",
      "Run 6.412595290592308e+18\n"
     ]
    },
    {
     "name": "stderr",
     "output_type": "stream",
     "text": [
      "/ocean/projects/phy210048p/jpassos/conda-venvs/lsdb-main/lib/python3.12/site-packages/lsdb/dask/crossmatch_catalog_data.py:147: RuntimeWarning: Right catalog does not have a margin cache. Results may be incomplete and/or inaccurate.\n",
      "  warnings.warn(\n"
     ]
    },
    {
     "name": "stdout",
     "output_type": "stream",
     "text": [
      "Wall time: 302.0111186504364\n",
      "Run 6.412596012146801e+18\n"
     ]
    },
    {
     "name": "stderr",
     "output_type": "stream",
     "text": [
      "/ocean/projects/phy210048p/jpassos/conda-venvs/lsdb-main/lib/python3.12/site-packages/lsdb/dask/crossmatch_catalog_data.py:147: RuntimeWarning: Right catalog does not have a margin cache. Results may be incomplete and/or inaccurate.\n",
      "  warnings.warn(\n"
     ]
    },
    {
     "name": "stdout",
     "output_type": "stream",
     "text": [
      "Wall time: 302.4762942790985\n"
     ]
    },
    {
     "data": {
      "text/html": [
       "<div>\n",
       "<style scoped>\n",
       "    .dataframe tbody tr th:only-of-type {\n",
       "        vertical-align: middle;\n",
       "    }\n",
       "\n",
       "    .dataframe tbody tr th {\n",
       "        vertical-align: top;\n",
       "    }\n",
       "\n",
       "    .dataframe thead th {\n",
       "        text-align: right;\n",
       "    }\n",
       "</style>\n",
       "<table border=\"1\" class=\"dataframe\">\n",
       "  <thead>\n",
       "    <tr style=\"text-align: right;\">\n",
       "      <th></th>\n",
       "      <th>ra_gaia</th>\n",
       "      <th>dec_gaia</th>\n",
       "      <th>source_id_gaia</th>\n",
       "      <th>original_size</th>\n",
       "      <th>filtered_size</th>\n",
       "      <th>wall_time</th>\n",
       "      <th>area</th>\n",
       "      <th>avg_density</th>\n",
       "      <th>throughput</th>\n",
       "      <th>filter_ratio</th>\n",
       "    </tr>\n",
       "  </thead>\n",
       "  <tbody>\n",
       "    <tr>\n",
       "      <th>0</th>\n",
       "      <td>1.383284</td>\n",
       "      <td>-37.367744</td>\n",
       "      <td>2306965202564744064</td>\n",
       "      <td>1567489.0</td>\n",
       "      <td>27171.0</td>\n",
       "      <td>153.896461</td>\n",
       "      <td>12.566371</td>\n",
       "      <td>124736.811296</td>\n",
       "      <td>176.553767</td>\n",
       "      <td>0.017334</td>\n",
       "    </tr>\n",
       "    <tr>\n",
       "      <th>1</th>\n",
       "      <td>33.079599</td>\n",
       "      <td>3.567385</td>\n",
       "      <td>2515037264041041536</td>\n",
       "      <td>1477993.0</td>\n",
       "      <td>20906.0</td>\n",
       "      <td>120.645933</td>\n",
       "      <td>12.566371</td>\n",
       "      <td>117614.945903</td>\n",
       "      <td>173.283918</td>\n",
       "      <td>0.014145</td>\n",
       "    </tr>\n",
       "    <tr>\n",
       "      <th>2</th>\n",
       "      <td>53.567196</td>\n",
       "      <td>-49.890084</td>\n",
       "      <td>4736655036868019072</td>\n",
       "      <td>1724605.0</td>\n",
       "      <td>36259.0</td>\n",
       "      <td>202.910557</td>\n",
       "      <td>12.566371</td>\n",
       "      <td>137239.705315</td>\n",
       "      <td>178.694498</td>\n",
       "      <td>0.021025</td>\n",
       "    </tr>\n",
       "    <tr>\n",
       "      <th>3</th>\n",
       "      <td>62.611000</td>\n",
       "      <td>-53.612997</td>\n",
       "      <td>4780100658292046592</td>\n",
       "      <td>1725968.0</td>\n",
       "      <td>42798.0</td>\n",
       "      <td>223.872236</td>\n",
       "      <td>12.566371</td>\n",
       "      <td>137348.169409</td>\n",
       "      <td>191.171539</td>\n",
       "      <td>0.024797</td>\n",
       "    </tr>\n",
       "    <tr>\n",
       "      <th>4</th>\n",
       "      <td>50.000344</td>\n",
       "      <td>-43.066553</td>\n",
       "      <td>4847957293278177024</td>\n",
       "      <td>1663778.0</td>\n",
       "      <td>34397.0</td>\n",
       "      <td>186.853733</td>\n",
       "      <td>12.566371</td>\n",
       "      <td>132399.246454</td>\n",
       "      <td>184.085163</td>\n",
       "      <td>0.020674</td>\n",
       "    </tr>\n",
       "    <tr>\n",
       "      <th>5</th>\n",
       "      <td>5.035610</td>\n",
       "      <td>-64.869617</td>\n",
       "      <td>4900108950849461248</td>\n",
       "      <td>1227396.0</td>\n",
       "      <td>32879.0</td>\n",
       "      <td>184.470289</td>\n",
       "      <td>12.566371</td>\n",
       "      <td>97673.070266</td>\n",
       "      <td>178.234664</td>\n",
       "      <td>0.026788</td>\n",
       "    </tr>\n",
       "    <tr>\n",
       "      <th>6</th>\n",
       "      <td>32.622946</td>\n",
       "      <td>-50.820906</td>\n",
       "      <td>4937000898856156288</td>\n",
       "      <td>1648327.0</td>\n",
       "      <td>33342.0</td>\n",
       "      <td>167.038537</td>\n",
       "      <td>12.566371</td>\n",
       "      <td>131169.694941</td>\n",
       "      <td>199.606634</td>\n",
       "      <td>0.020228</td>\n",
       "    </tr>\n",
       "    <tr>\n",
       "      <th>7</th>\n",
       "      <td>32.624069</td>\n",
       "      <td>-50.820823</td>\n",
       "      <td>4937000898856154624</td>\n",
       "      <td>1648297.0</td>\n",
       "      <td>33340.0</td>\n",
       "      <td>164.842335</td>\n",
       "      <td>12.566371</td>\n",
       "      <td>131167.307617</td>\n",
       "      <td>202.253869</td>\n",
       "      <td>0.020227</td>\n",
       "    </tr>\n",
       "    <tr>\n",
       "      <th>8</th>\n",
       "      <td>11.341389</td>\n",
       "      <td>-33.497993</td>\n",
       "      <td>5006232026455470848</td>\n",
       "      <td>1626641.0</td>\n",
       "      <td>25934.0</td>\n",
       "      <td>136.285563</td>\n",
       "      <td>12.566371</td>\n",
       "      <td>129443.977893</td>\n",
       "      <td>190.291616</td>\n",
       "      <td>0.015943</td>\n",
       "    </tr>\n",
       "    <tr>\n",
       "      <th>9</th>\n",
       "      <td>54.572022</td>\n",
       "      <td>-11.499069</td>\n",
       "      <td>5115463180914712448</td>\n",
       "      <td>1001288.0</td>\n",
       "      <td>12276.0</td>\n",
       "      <td>122.755368</td>\n",
       "      <td>12.566371</td>\n",
       "      <td>79679.967329</td>\n",
       "      <td>100.003774</td>\n",
       "      <td>0.012260</td>\n",
       "    </tr>\n",
       "    <tr>\n",
       "      <th>10</th>\n",
       "      <td>24.771674</td>\n",
       "      <td>-17.947683</td>\n",
       "      <td>5140693571158946048</td>\n",
       "      <td>1648410.0</td>\n",
       "      <td>26118.0</td>\n",
       "      <td>155.589962</td>\n",
       "      <td>12.566371</td>\n",
       "      <td>131176.299871</td>\n",
       "      <td>167.864300</td>\n",
       "      <td>0.015844</td>\n",
       "    </tr>\n",
       "    <tr>\n",
       "      <th>11</th>\n",
       "      <td>24.771554</td>\n",
       "      <td>-17.948300</td>\n",
       "      <td>5140693571158739840</td>\n",
       "      <td>1648405.0</td>\n",
       "      <td>26124.0</td>\n",
       "      <td>159.251439</td>\n",
       "      <td>12.566371</td>\n",
       "      <td>131175.901984</td>\n",
       "      <td>164.042473</td>\n",
       "      <td>0.015848</td>\n",
       "    </tr>\n",
       "    <tr>\n",
       "      <th>12</th>\n",
       "      <td>41.569693</td>\n",
       "      <td>-4.997404</td>\n",
       "      <td>5184938400096586112</td>\n",
       "      <td>1605268.0</td>\n",
       "      <td>24048.0</td>\n",
       "      <td>122.773468</td>\n",
       "      <td>12.566371</td>\n",
       "      <td>127743.168594</td>\n",
       "      <td>195.872939</td>\n",
       "      <td>0.014981</td>\n",
       "    </tr>\n",
       "    <tr>\n",
       "      <th>13</th>\n",
       "      <td>42.817452</td>\n",
       "      <td>-3.888260</td>\n",
       "      <td>5185493447310441728</td>\n",
       "      <td>1605043.0</td>\n",
       "      <td>22660.0</td>\n",
       "      <td>135.459274</td>\n",
       "      <td>12.566371</td>\n",
       "      <td>127725.263663</td>\n",
       "      <td>167.282751</td>\n",
       "      <td>0.014118</td>\n",
       "    </tr>\n",
       "    <tr>\n",
       "      <th>14</th>\n",
       "      <td>330.872408</td>\n",
       "      <td>-56.797255</td>\n",
       "      <td>6412595290592307840</td>\n",
       "      <td>1769509.0</td>\n",
       "      <td>58651.0</td>\n",
       "      <td>302.011119</td>\n",
       "      <td>12.566371</td>\n",
       "      <td>140813.052098</td>\n",
       "      <td>194.201459</td>\n",
       "      <td>0.033145</td>\n",
       "    </tr>\n",
       "    <tr>\n",
       "      <th>15</th>\n",
       "      <td>331.076453</td>\n",
       "      <td>-56.793812</td>\n",
       "      <td>6412596012146801152</td>\n",
       "      <td>1768974.0</td>\n",
       "      <td>57829.0</td>\n",
       "      <td>302.476294</td>\n",
       "      <td>12.566371</td>\n",
       "      <td>140770.478151</td>\n",
       "      <td>191.185230</td>\n",
       "      <td>0.032691</td>\n",
       "    </tr>\n",
       "  </tbody>\n",
       "</table>\n",
       "</div>"
      ],
      "text/plain": [
       "       ra_gaia   dec_gaia       source_id_gaia  original_size  filtered_size  \\\n",
       "0     1.383284 -37.367744  2306965202564744064      1567489.0        27171.0   \n",
       "1    33.079599   3.567385  2515037264041041536      1477993.0        20906.0   \n",
       "2    53.567196 -49.890084  4736655036868019072      1724605.0        36259.0   \n",
       "3    62.611000 -53.612997  4780100658292046592      1725968.0        42798.0   \n",
       "4    50.000344 -43.066553  4847957293278177024      1663778.0        34397.0   \n",
       "5     5.035610 -64.869617  4900108950849461248      1227396.0        32879.0   \n",
       "6    32.622946 -50.820906  4937000898856156288      1648327.0        33342.0   \n",
       "7    32.624069 -50.820823  4937000898856154624      1648297.0        33340.0   \n",
       "8    11.341389 -33.497993  5006232026455470848      1626641.0        25934.0   \n",
       "9    54.572022 -11.499069  5115463180914712448      1001288.0        12276.0   \n",
       "10   24.771674 -17.947683  5140693571158946048      1648410.0        26118.0   \n",
       "11   24.771554 -17.948300  5140693571158739840      1648405.0        26124.0   \n",
       "12   41.569693  -4.997404  5184938400096586112      1605268.0        24048.0   \n",
       "13   42.817452  -3.888260  5185493447310441728      1605043.0        22660.0   \n",
       "14  330.872408 -56.797255  6412595290592307840      1769509.0        58651.0   \n",
       "15  331.076453 -56.793812  6412596012146801152      1768974.0        57829.0   \n",
       "\n",
       "     wall_time       area    avg_density  throughput  filter_ratio  \n",
       "0   153.896461  12.566371  124736.811296  176.553767      0.017334  \n",
       "1   120.645933  12.566371  117614.945903  173.283918      0.014145  \n",
       "2   202.910557  12.566371  137239.705315  178.694498      0.021025  \n",
       "3   223.872236  12.566371  137348.169409  191.171539      0.024797  \n",
       "4   186.853733  12.566371  132399.246454  184.085163      0.020674  \n",
       "5   184.470289  12.566371   97673.070266  178.234664      0.026788  \n",
       "6   167.038537  12.566371  131169.694941  199.606634      0.020228  \n",
       "7   164.842335  12.566371  131167.307617  202.253869      0.020227  \n",
       "8   136.285563  12.566371  129443.977893  190.291616      0.015943  \n",
       "9   122.755368  12.566371   79679.967329  100.003774      0.012260  \n",
       "10  155.589962  12.566371  131176.299871  167.864300      0.015844  \n",
       "11  159.251439  12.566371  131175.901984  164.042473      0.015848  \n",
       "12  122.773468  12.566371  127743.168594  195.872939      0.014981  \n",
       "13  135.459274  12.566371  127725.263663  167.282751      0.014118  \n",
       "14  302.011119  12.566371  140813.052098  194.201459      0.033145  \n",
       "15  302.476294  12.566371  140770.478151  191.185230      0.032691  "
      ]
     },
     "execution_count": 8,
     "metadata": {},
     "output_type": "execute_result"
    }
   ],
   "source": [
    "stats_df = gaia_high_pm_stars.apply(obtain_runtime_data, axis=1, args=(des_cols, cone_search_rad, query_string, \n",
    "                                                       xmatch_max_neighbors, max_neighbor_dist, \n",
    "                                                       min_neighbors, k, max_obj_deviation, des_id_col))\n",
    "\n",
    "gaia_high_pm_stars = pd.concat([gaia_high_pm_stars, stats_df], axis=1)\n",
    "gaia_high_pm_stars"
   ]
  },
  {
   "cell_type": "code",
   "execution_count": 9,
   "id": "80962ac7-02a6-4d7d-80e0-6387cdc4e35c",
   "metadata": {},
   "outputs": [],
   "source": [
    "gaia_high_pm_stars.to_csv('benchmarking_results.csv')"
   ]
  },
  {
   "cell_type": "code",
   "execution_count": 3,
   "id": "86474edc-532b-4e5e-b4c2-cdabed928b55",
   "metadata": {},
   "outputs": [
    {
     "data": {
      "text/html": [
       "<div>\n",
       "<style scoped>\n",
       "    .dataframe tbody tr th:only-of-type {\n",
       "        vertical-align: middle;\n",
       "    }\n",
       "\n",
       "    .dataframe tbody tr th {\n",
       "        vertical-align: top;\n",
       "    }\n",
       "\n",
       "    .dataframe thead th {\n",
       "        text-align: right;\n",
       "    }\n",
       "</style>\n",
       "<table border=\"1\" class=\"dataframe\">\n",
       "  <thead>\n",
       "    <tr style=\"text-align: right;\">\n",
       "      <th></th>\n",
       "      <th>Unnamed: 0</th>\n",
       "      <th>ra_gaia</th>\n",
       "      <th>dec_gaia</th>\n",
       "      <th>source_id_gaia</th>\n",
       "      <th>original_size</th>\n",
       "      <th>filtered_size</th>\n",
       "      <th>wall_time</th>\n",
       "      <th>area</th>\n",
       "      <th>avg_density</th>\n",
       "      <th>throughput</th>\n",
       "      <th>filter_ratio</th>\n",
       "    </tr>\n",
       "  </thead>\n",
       "  <tbody>\n",
       "    <tr>\n",
       "      <th>0</th>\n",
       "      <td>0</td>\n",
       "      <td>1.383284</td>\n",
       "      <td>-37.367744</td>\n",
       "      <td>2306965202564744064</td>\n",
       "      <td>1567489.0</td>\n",
       "      <td>27171.0</td>\n",
       "      <td>153.896461</td>\n",
       "      <td>12.566371</td>\n",
       "      <td>124736.811296</td>\n",
       "      <td>176.553767</td>\n",
       "      <td>0.017334</td>\n",
       "    </tr>\n",
       "    <tr>\n",
       "      <th>1</th>\n",
       "      <td>1</td>\n",
       "      <td>33.079599</td>\n",
       "      <td>3.567385</td>\n",
       "      <td>2515037264041041536</td>\n",
       "      <td>1477993.0</td>\n",
       "      <td>20906.0</td>\n",
       "      <td>120.645933</td>\n",
       "      <td>12.566371</td>\n",
       "      <td>117614.945903</td>\n",
       "      <td>173.283918</td>\n",
       "      <td>0.014145</td>\n",
       "    </tr>\n",
       "    <tr>\n",
       "      <th>2</th>\n",
       "      <td>2</td>\n",
       "      <td>53.567196</td>\n",
       "      <td>-49.890084</td>\n",
       "      <td>4736655036868019072</td>\n",
       "      <td>1724605.0</td>\n",
       "      <td>36259.0</td>\n",
       "      <td>202.910557</td>\n",
       "      <td>12.566371</td>\n",
       "      <td>137239.705315</td>\n",
       "      <td>178.694498</td>\n",
       "      <td>0.021025</td>\n",
       "    </tr>\n",
       "    <tr>\n",
       "      <th>3</th>\n",
       "      <td>3</td>\n",
       "      <td>62.611000</td>\n",
       "      <td>-53.612997</td>\n",
       "      <td>4780100658292046592</td>\n",
       "      <td>1725968.0</td>\n",
       "      <td>42798.0</td>\n",
       "      <td>223.872236</td>\n",
       "      <td>12.566371</td>\n",
       "      <td>137348.169409</td>\n",
       "      <td>191.171539</td>\n",
       "      <td>0.024797</td>\n",
       "    </tr>\n",
       "    <tr>\n",
       "      <th>4</th>\n",
       "      <td>4</td>\n",
       "      <td>50.000344</td>\n",
       "      <td>-43.066553</td>\n",
       "      <td>4847957293278177024</td>\n",
       "      <td>1663778.0</td>\n",
       "      <td>34397.0</td>\n",
       "      <td>186.853733</td>\n",
       "      <td>12.566371</td>\n",
       "      <td>132399.246454</td>\n",
       "      <td>184.085163</td>\n",
       "      <td>0.020674</td>\n",
       "    </tr>\n",
       "    <tr>\n",
       "      <th>5</th>\n",
       "      <td>5</td>\n",
       "      <td>5.035610</td>\n",
       "      <td>-64.869617</td>\n",
       "      <td>4900108950849461248</td>\n",
       "      <td>1227396.0</td>\n",
       "      <td>32879.0</td>\n",
       "      <td>184.470289</td>\n",
       "      <td>12.566371</td>\n",
       "      <td>97673.070266</td>\n",
       "      <td>178.234664</td>\n",
       "      <td>0.026788</td>\n",
       "    </tr>\n",
       "    <tr>\n",
       "      <th>6</th>\n",
       "      <td>6</td>\n",
       "      <td>32.622946</td>\n",
       "      <td>-50.820906</td>\n",
       "      <td>4937000898856156288</td>\n",
       "      <td>1648327.0</td>\n",
       "      <td>33342.0</td>\n",
       "      <td>167.038537</td>\n",
       "      <td>12.566371</td>\n",
       "      <td>131169.694941</td>\n",
       "      <td>199.606634</td>\n",
       "      <td>0.020228</td>\n",
       "    </tr>\n",
       "    <tr>\n",
       "      <th>7</th>\n",
       "      <td>7</td>\n",
       "      <td>32.624069</td>\n",
       "      <td>-50.820823</td>\n",
       "      <td>4937000898856154624</td>\n",
       "      <td>1648297.0</td>\n",
       "      <td>33340.0</td>\n",
       "      <td>164.842335</td>\n",
       "      <td>12.566371</td>\n",
       "      <td>131167.307617</td>\n",
       "      <td>202.253869</td>\n",
       "      <td>0.020227</td>\n",
       "    </tr>\n",
       "    <tr>\n",
       "      <th>8</th>\n",
       "      <td>8</td>\n",
       "      <td>11.341389</td>\n",
       "      <td>-33.497993</td>\n",
       "      <td>5006232026455470848</td>\n",
       "      <td>1626641.0</td>\n",
       "      <td>25934.0</td>\n",
       "      <td>136.285563</td>\n",
       "      <td>12.566371</td>\n",
       "      <td>129443.977893</td>\n",
       "      <td>190.291616</td>\n",
       "      <td>0.015943</td>\n",
       "    </tr>\n",
       "    <tr>\n",
       "      <th>9</th>\n",
       "      <td>9</td>\n",
       "      <td>54.572022</td>\n",
       "      <td>-11.499069</td>\n",
       "      <td>5115463180914712448</td>\n",
       "      <td>1001288.0</td>\n",
       "      <td>12276.0</td>\n",
       "      <td>122.755368</td>\n",
       "      <td>12.566371</td>\n",
       "      <td>79679.967329</td>\n",
       "      <td>100.003774</td>\n",
       "      <td>0.012260</td>\n",
       "    </tr>\n",
       "    <tr>\n",
       "      <th>10</th>\n",
       "      <td>10</td>\n",
       "      <td>24.771674</td>\n",
       "      <td>-17.947683</td>\n",
       "      <td>5140693571158946048</td>\n",
       "      <td>1648410.0</td>\n",
       "      <td>26118.0</td>\n",
       "      <td>155.589962</td>\n",
       "      <td>12.566371</td>\n",
       "      <td>131176.299871</td>\n",
       "      <td>167.864300</td>\n",
       "      <td>0.015844</td>\n",
       "    </tr>\n",
       "    <tr>\n",
       "      <th>11</th>\n",
       "      <td>11</td>\n",
       "      <td>24.771554</td>\n",
       "      <td>-17.948300</td>\n",
       "      <td>5140693571158739840</td>\n",
       "      <td>1648405.0</td>\n",
       "      <td>26124.0</td>\n",
       "      <td>159.251439</td>\n",
       "      <td>12.566371</td>\n",
       "      <td>131175.901984</td>\n",
       "      <td>164.042473</td>\n",
       "      <td>0.015848</td>\n",
       "    </tr>\n",
       "    <tr>\n",
       "      <th>12</th>\n",
       "      <td>12</td>\n",
       "      <td>41.569693</td>\n",
       "      <td>-4.997404</td>\n",
       "      <td>5184938400096586112</td>\n",
       "      <td>1605268.0</td>\n",
       "      <td>24048.0</td>\n",
       "      <td>122.773468</td>\n",
       "      <td>12.566371</td>\n",
       "      <td>127743.168594</td>\n",
       "      <td>195.872939</td>\n",
       "      <td>0.014981</td>\n",
       "    </tr>\n",
       "    <tr>\n",
       "      <th>13</th>\n",
       "      <td>13</td>\n",
       "      <td>42.817452</td>\n",
       "      <td>-3.888260</td>\n",
       "      <td>5185493447310441728</td>\n",
       "      <td>1605043.0</td>\n",
       "      <td>22660.0</td>\n",
       "      <td>135.459274</td>\n",
       "      <td>12.566371</td>\n",
       "      <td>127725.263663</td>\n",
       "      <td>167.282751</td>\n",
       "      <td>0.014118</td>\n",
       "    </tr>\n",
       "    <tr>\n",
       "      <th>14</th>\n",
       "      <td>14</td>\n",
       "      <td>330.872408</td>\n",
       "      <td>-56.797255</td>\n",
       "      <td>6412595290592307840</td>\n",
       "      <td>1769509.0</td>\n",
       "      <td>58651.0</td>\n",
       "      <td>302.011119</td>\n",
       "      <td>12.566371</td>\n",
       "      <td>140813.052098</td>\n",
       "      <td>194.201459</td>\n",
       "      <td>0.033145</td>\n",
       "    </tr>\n",
       "    <tr>\n",
       "      <th>15</th>\n",
       "      <td>15</td>\n",
       "      <td>331.076453</td>\n",
       "      <td>-56.793812</td>\n",
       "      <td>6412596012146801152</td>\n",
       "      <td>1768974.0</td>\n",
       "      <td>57829.0</td>\n",
       "      <td>302.476294</td>\n",
       "      <td>12.566371</td>\n",
       "      <td>140770.478151</td>\n",
       "      <td>191.185230</td>\n",
       "      <td>0.032691</td>\n",
       "    </tr>\n",
       "  </tbody>\n",
       "</table>\n",
       "</div>"
      ],
      "text/plain": [
       "    Unnamed: 0     ra_gaia   dec_gaia       source_id_gaia  original_size  \\\n",
       "0            0    1.383284 -37.367744  2306965202564744064      1567489.0   \n",
       "1            1   33.079599   3.567385  2515037264041041536      1477993.0   \n",
       "2            2   53.567196 -49.890084  4736655036868019072      1724605.0   \n",
       "3            3   62.611000 -53.612997  4780100658292046592      1725968.0   \n",
       "4            4   50.000344 -43.066553  4847957293278177024      1663778.0   \n",
       "5            5    5.035610 -64.869617  4900108950849461248      1227396.0   \n",
       "6            6   32.622946 -50.820906  4937000898856156288      1648327.0   \n",
       "7            7   32.624069 -50.820823  4937000898856154624      1648297.0   \n",
       "8            8   11.341389 -33.497993  5006232026455470848      1626641.0   \n",
       "9            9   54.572022 -11.499069  5115463180914712448      1001288.0   \n",
       "10          10   24.771674 -17.947683  5140693571158946048      1648410.0   \n",
       "11          11   24.771554 -17.948300  5140693571158739840      1648405.0   \n",
       "12          12   41.569693  -4.997404  5184938400096586112      1605268.0   \n",
       "13          13   42.817452  -3.888260  5185493447310441728      1605043.0   \n",
       "14          14  330.872408 -56.797255  6412595290592307840      1769509.0   \n",
       "15          15  331.076453 -56.793812  6412596012146801152      1768974.0   \n",
       "\n",
       "    filtered_size   wall_time       area    avg_density  throughput  \\\n",
       "0         27171.0  153.896461  12.566371  124736.811296  176.553767   \n",
       "1         20906.0  120.645933  12.566371  117614.945903  173.283918   \n",
       "2         36259.0  202.910557  12.566371  137239.705315  178.694498   \n",
       "3         42798.0  223.872236  12.566371  137348.169409  191.171539   \n",
       "4         34397.0  186.853733  12.566371  132399.246454  184.085163   \n",
       "5         32879.0  184.470289  12.566371   97673.070266  178.234664   \n",
       "6         33342.0  167.038537  12.566371  131169.694941  199.606634   \n",
       "7         33340.0  164.842335  12.566371  131167.307617  202.253869   \n",
       "8         25934.0  136.285563  12.566371  129443.977893  190.291616   \n",
       "9         12276.0  122.755368  12.566371   79679.967329  100.003774   \n",
       "10        26118.0  155.589962  12.566371  131176.299871  167.864300   \n",
       "11        26124.0  159.251439  12.566371  131175.901984  164.042473   \n",
       "12        24048.0  122.773468  12.566371  127743.168594  195.872939   \n",
       "13        22660.0  135.459274  12.566371  127725.263663  167.282751   \n",
       "14        58651.0  302.011119  12.566371  140813.052098  194.201459   \n",
       "15        57829.0  302.476294  12.566371  140770.478151  191.185230   \n",
       "\n",
       "    filter_ratio  \n",
       "0       0.017334  \n",
       "1       0.014145  \n",
       "2       0.021025  \n",
       "3       0.024797  \n",
       "4       0.020674  \n",
       "5       0.026788  \n",
       "6       0.020228  \n",
       "7       0.020227  \n",
       "8       0.015943  \n",
       "9       0.012260  \n",
       "10      0.015844  \n",
       "11      0.015848  \n",
       "12      0.014981  \n",
       "13      0.014118  \n",
       "14      0.033145  \n",
       "15      0.032691  "
      ]
     },
     "execution_count": 3,
     "metadata": {},
     "output_type": "execute_result"
    }
   ],
   "source": [
    "benchmark = pd.read_csv('benchmarking_results.csv')\n",
    "benchmark"
   ]
  },
  {
   "cell_type": "code",
   "execution_count": 15,
   "id": "fe737a2a-6ba4-4ecb-a2b7-6b34986d51a4",
   "metadata": {},
   "outputs": [
    {
     "data": {
      "image/png": "[encoded data removed]",
      "text/plain": [
       "<Figure size 1200x500 with 2 Axes>"
      ]
     },
     "metadata": {},
     "output_type": "display_data"
    }
   ],
   "source": [
    "fig, axs = plt.subplots(1, 2, figsize=(12, 5))\n",
    "\n",
    "# First plot: Object Density vs Potential High PM Stars\n",
    "axs[0].scatter(benchmark['avg_density'], benchmark['filtered_size'])\n",
    "axs[0].set_xlabel('num unfiltered objects per degree^2')\n",
    "axs[0].set_ylabel('num filtered objects')\n",
    "axs[0].set_title('Object Density vs Potential High PM Stars')\n",
    "\n",
    "# Second plot: Walltime\n",
    "axs[1].scatter(benchmark['avg_density'], benchmark['wall_time'])\n",
    "axs[1].set_xlabel('num objects per degree^2')\n",
    "axs[1].set_ylabel('walltime (seconds)')\n",
    "axs[1].set_title('Object Density vs Walltime')\n",
    "\n",
    "plt.tight_layout()\n",
    "plt.show()"
   ]
  },
  {
   "cell_type": "code",
   "execution_count": 16,
   "id": "a8af0b7c-89c8-4eae-b613-9d778ac19ab1",
   "metadata": {},
   "outputs": [
    {
     "data": {
      "text/plain": [
       "Text(0.5, 1.0, 'Object Density vs Filter Ratio')"
      ]
     },
     "execution_count": 16,
     "metadata": {},
     "output_type": "execute_result"
    },
    {
     "data": {
      "image/png": "[encoded data removed]",
      "text/plain": [
       "<Figure size 640x480 with 1 Axes>"
      ]
     },
     "metadata": {},
     "output_type": "display_data"
    }
   ],
   "source": [
    "plt.scatter(benchmark['avg_density'], benchmark['filter_ratio'])\n",
    "plt.xlabel('num unfiltered objects per degree^2')\n",
    "plt.ylabel('original num objects/filtered num objects')\n",
    "plt.title('Object Density vs Filter Ratio')"
   ]
  },
  {
   "cell_type": "markdown",
   "id": "432e4997-63e6-47c3-b726-d4b3690b6270",
   "metadata": {},
   "source": [
    "## Results Interpretation\n",
    "\n",
    "We see that after filtering the number of objects are on the order of 10000 in these two degree conesearches. Given that we were expecting something of the order 10 or 100, it is clear that our pipeline is not strict enough. This leads us in two directions, we can impose stricter constraints on our already existing filtering methods, or we can implement new filtering methods. The former is a more straightforward approach, and is what we will pursue currently. \n",
    "\n",
    "In observing the kth_min_proj_error values from des_gaia_xmatch_V2.ipynb, the largest error of a HPMS which is feasibly capturable by this pipeline is ~0.048 arcseconds. Our current cutoff is 0.2 arcseconds, so let us begin by choosing 0.08 for our cutoff."
   ]
  },
  {
   "cell_type": "code",
   "execution_count": 6,
   "id": "fd6f65a9-3514-492a-b331-15f69e7d3715",
   "metadata": {},
   "outputs": [],
   "source": [
    "max_obj_deviation = 0.08\n",
    "\n",
    "# redefine func to read stored conesearches instead of reperform them\n",
    "def obtain_runtime_data(row, des_cols, cone_search_rad, query_string, \n",
    "                        xmatch_max_neighbors, max_neighbor_dist, min_neighbors,\n",
    "                        k, max_obj_deviation, id_col):\n",
    "    \n",
    "    TESTING_SET_NAME = str(row['source_id_gaia'])\n",
    "    TESTING_SET_DIR = BENCHMARK_CATALOG_DIR / TESTING_SET_NAME\n",
    "\n",
    "    testing_set = lsdb.read_hats(TESTING_SET_DIR)\n",
    "    original_size = len(testing_set)\n",
    "\n",
    "    print(f\"Run {row['source_id_gaia']}\")\n",
    "\n",
    "    start_wall = time.time()\n",
    "    with Client():\n",
    "        df = hpms.execute_pipeline(testing_set, query_string=query_string, \n",
    "                                   xmatch_max_neighbors=xmatch_max_neighbors, \n",
    "                                   max_neighbor_dist=max_neighbor_dist, \n",
    "                                   min_neighbors=min_neighbors, \n",
    "                                   k=k, \n",
    "                                   max_obj_deviation=max_obj_deviation, \n",
    "                                   id_col=des_id_col).compute()\n",
    "    wall_time = time.time() - start_wall\n",
    "    print(\"Wall time:\", wall_time)\n",
    "    filtered_size = len(df)\n",
    "\n",
    "    # Compute derived values\n",
    "    area = np.pi * (cone_search_rad / 3600)**2  # convert arcsec to degrees\n",
    "    avg_density = original_size / area if area != 0 else 0\n",
    "    throughput = filtered_size / wall_time if wall_time != 0 else 0\n",
    "    filter_ratio = filtered_size / original_size if original_size != 0 else 0\n",
    "\n",
    "    return pd.Series({\n",
    "        f'original_size_{max_obj_deviation}': original_size,\n",
    "        f'filtered_size_{max_obj_deviation}': filtered_size,\n",
    "        f'wall_time_{max_obj_deviation}': wall_time,\n",
    "        f'area_{max_obj_deviation}': area,\n",
    "        f'avg_density_{max_obj_deviation}': avg_density,\n",
    "        f'throughput_{max_obj_deviation}': throughput,\n",
    "        f'filter_ratio_{max_obj_deviation}': filter_ratio\n",
    "    })"
   ]
  },
  {
   "cell_type": "code",
   "execution_count": 7,
   "id": "013b425a-9092-4c22-97a7-2adbeae8fbb3",
   "metadata": {},
   "outputs": [
    {
     "name": "stdout",
     "output_type": "stream",
     "text": [
      "Run 2.306965202564744e+18\n"
     ]
    },
    {
     "name": "stderr",
     "output_type": "stream",
     "text": [
      "/ocean/projects/phy210048p/jpassos/conda-venvs/lsdb-main/lib/python3.12/site-packages/lsdb/dask/crossmatch_catalog_data.py:147: RuntimeWarning: Right catalog does not have a margin cache. Results may be incomplete and/or inaccurate.\n",
      "  warnings.warn(\n"
     ]
    },
    {
     "name": "stdout",
     "output_type": "stream",
     "text": [
      "Wall time: 177.21380424499512\n",
      "Run 2.5150372640410414e+18\n"
     ]
    },
    {
     "name": "stderr",
     "output_type": "stream",
     "text": [
      "/ocean/projects/phy210048p/jpassos/conda-venvs/lsdb-main/lib/python3.12/site-packages/lsdb/dask/crossmatch_catalog_data.py:147: RuntimeWarning: Right catalog does not have a margin cache. Results may be incomplete and/or inaccurate.\n",
      "  warnings.warn(\n"
     ]
    },
    {
     "name": "stdout",
     "output_type": "stream",
     "text": [
      "Wall time: 124.71515941619873\n",
      "Run 4.736655036868019e+18\n"
     ]
    },
    {
     "name": "stderr",
     "output_type": "stream",
     "text": [
      "/ocean/projects/phy210048p/jpassos/conda-venvs/lsdb-main/lib/python3.12/site-packages/lsdb/dask/crossmatch_catalog_data.py:147: RuntimeWarning: Right catalog does not have a margin cache. Results may be incomplete and/or inaccurate.\n",
      "  warnings.warn(\n"
     ]
    },
    {
     "name": "stdout",
     "output_type": "stream",
     "text": [
      "Wall time: 200.89532613754272\n",
      "Run 4.780100658292047e+18\n"
     ]
    },
    {
     "name": "stderr",
     "output_type": "stream",
     "text": [
      "/ocean/projects/phy210048p/jpassos/conda-venvs/lsdb-main/lib/python3.12/site-packages/lsdb/dask/crossmatch_catalog_data.py:147: RuntimeWarning: Right catalog does not have a margin cache. Results may be incomplete and/or inaccurate.\n",
      "  warnings.warn(\n"
     ]
    },
    {
     "name": "stdout",
     "output_type": "stream",
     "text": [
      "Wall time: 240.91811108589172\n",
      "Run 4.847957293278177e+18\n"
     ]
    },
    {
     "name": "stderr",
     "output_type": "stream",
     "text": [
      "/ocean/projects/phy210048p/jpassos/conda-venvs/lsdb-main/lib/python3.12/site-packages/lsdb/dask/crossmatch_catalog_data.py:147: RuntimeWarning: Right catalog does not have a margin cache. Results may be incomplete and/or inaccurate.\n",
      "  warnings.warn(\n"
     ]
    },
    {
     "name": "stdout",
     "output_type": "stream",
     "text": [
      "Wall time: 195.9001271724701\n",
      "Run 4.900108950849461e+18\n"
     ]
    },
    {
     "name": "stderr",
     "output_type": "stream",
     "text": [
      "/ocean/projects/phy210048p/jpassos/conda-venvs/lsdb-main/lib/python3.12/site-packages/lsdb/dask/crossmatch_catalog_data.py:147: RuntimeWarning: Right catalog does not have a margin cache. Results may be incomplete and/or inaccurate.\n",
      "  warnings.warn(\n"
     ]
    },
    {
     "name": "stdout",
     "output_type": "stream",
     "text": [
      "Wall time: 186.06543397903442\n",
      "Run 4.937000898856156e+18\n"
     ]
    },
    {
     "name": "stderr",
     "output_type": "stream",
     "text": [
      "/ocean/projects/phy210048p/jpassos/conda-venvs/lsdb-main/lib/python3.12/site-packages/lsdb/dask/crossmatch_catalog_data.py:147: RuntimeWarning: Right catalog does not have a margin cache. Results may be incomplete and/or inaccurate.\n",
      "  warnings.warn(\n"
     ]
    },
    {
     "name": "stdout",
     "output_type": "stream",
     "text": [
      "Wall time: 175.2565290927887\n",
      "Run 4.937000898856155e+18\n"
     ]
    },
    {
     "name": "stderr",
     "output_type": "stream",
     "text": [
      "/ocean/projects/phy210048p/jpassos/conda-venvs/lsdb-main/lib/python3.12/site-packages/lsdb/dask/crossmatch_catalog_data.py:147: RuntimeWarning: Right catalog does not have a margin cache. Results may be incomplete and/or inaccurate.\n",
      "  warnings.warn(\n"
     ]
    },
    {
     "name": "stdout",
     "output_type": "stream",
     "text": [
      "Wall time: 168.12732124328613\n",
      "Run 5.006232026455471e+18\n"
     ]
    },
    {
     "name": "stderr",
     "output_type": "stream",
     "text": [
      "/ocean/projects/phy210048p/jpassos/conda-venvs/lsdb-main/lib/python3.12/site-packages/lsdb/dask/crossmatch_catalog_data.py:147: RuntimeWarning: Right catalog does not have a margin cache. Results may be incomplete and/or inaccurate.\n",
      "  warnings.warn(\n"
     ]
    },
    {
     "name": "stdout",
     "output_type": "stream",
     "text": [
      "Wall time: 144.0971097946167\n",
      "Run 5.115463180914713e+18\n"
     ]
    },
    {
     "name": "stderr",
     "output_type": "stream",
     "text": [
      "/ocean/projects/phy210048p/jpassos/conda-venvs/lsdb-main/lib/python3.12/site-packages/lsdb/dask/crossmatch_catalog_data.py:147: RuntimeWarning: Right catalog does not have a margin cache. Results may be incomplete and/or inaccurate.\n",
      "  warnings.warn(\n"
     ]
    },
    {
     "name": "stdout",
     "output_type": "stream",
     "text": [
      "Wall time: 129.5689640045166\n",
      "Run 5.140693571158946e+18\n"
     ]
    },
    {
     "name": "stderr",
     "output_type": "stream",
     "text": [
      "/ocean/projects/phy210048p/jpassos/conda-venvs/lsdb-main/lib/python3.12/site-packages/lsdb/dask/crossmatch_catalog_data.py:147: RuntimeWarning: Right catalog does not have a margin cache. Results may be incomplete and/or inaccurate.\n",
      "  warnings.warn(\n"
     ]
    },
    {
     "name": "stdout",
     "output_type": "stream",
     "text": [
      "Wall time: 163.16693925857544\n",
      "Run 5.14069357115874e+18\n"
     ]
    },
    {
     "name": "stderr",
     "output_type": "stream",
     "text": [
      "/ocean/projects/phy210048p/jpassos/conda-venvs/lsdb-main/lib/python3.12/site-packages/lsdb/dask/crossmatch_catalog_data.py:147: RuntimeWarning: Right catalog does not have a margin cache. Results may be incomplete and/or inaccurate.\n",
      "  warnings.warn(\n"
     ]
    },
    {
     "name": "stdout",
     "output_type": "stream",
     "text": [
      "Wall time: 165.02103424072266\n",
      "Run 5.184938400096586e+18\n"
     ]
    },
    {
     "name": "stderr",
     "output_type": "stream",
     "text": [
      "/ocean/projects/phy210048p/jpassos/conda-venvs/lsdb-main/lib/python3.12/site-packages/lsdb/dask/crossmatch_catalog_data.py:147: RuntimeWarning: Right catalog does not have a margin cache. Results may be incomplete and/or inaccurate.\n",
      "  warnings.warn(\n"
     ]
    },
    {
     "name": "stdout",
     "output_type": "stream",
     "text": [
      "Wall time: 134.9840772151947\n",
      "Run 5.185493447310441e+18\n"
     ]
    },
    {
     "name": "stderr",
     "output_type": "stream",
     "text": [
      "/ocean/projects/phy210048p/jpassos/conda-venvs/lsdb-main/lib/python3.12/site-packages/lsdb/dask/crossmatch_catalog_data.py:147: RuntimeWarning: Right catalog does not have a margin cache. Results may be incomplete and/or inaccurate.\n",
      "  warnings.warn(\n"
     ]
    },
    {
     "name": "stdout",
     "output_type": "stream",
     "text": [
      "Wall time: 141.88266396522522\n",
      "Run 6.412595290592308e+18\n"
     ]
    },
    {
     "name": "stderr",
     "output_type": "stream",
     "text": [
      "/ocean/projects/phy210048p/jpassos/conda-venvs/lsdb-main/lib/python3.12/site-packages/lsdb/dask/crossmatch_catalog_data.py:147: RuntimeWarning: Right catalog does not have a margin cache. Results may be incomplete and/or inaccurate.\n",
      "  warnings.warn(\n"
     ]
    },
    {
     "name": "stdout",
     "output_type": "stream",
     "text": [
      "Wall time: 310.56244111061096\n",
      "Run 6.412596012146801e+18\n"
     ]
    },
    {
     "name": "stderr",
     "output_type": "stream",
     "text": [
      "/ocean/projects/phy210048p/jpassos/conda-venvs/lsdb-main/lib/python3.12/site-packages/lsdb/dask/crossmatch_catalog_data.py:147: RuntimeWarning: Right catalog does not have a margin cache. Results may be incomplete and/or inaccurate.\n",
      "  warnings.warn(\n"
     ]
    },
    {
     "name": "stdout",
     "output_type": "stream",
     "text": [
      "Wall time: 320.96657156944275\n",
      "CPU times: user 2min 5s, sys: 36.6 s, total: 2min 41s\n",
      "Wall time: 49min 43s\n"
     ]
    },
    {
     "data": {
      "text/html": [
       "<div>\n",
       "<style scoped>\n",
       "    .dataframe tbody tr th:only-of-type {\n",
       "        vertical-align: middle;\n",
       "    }\n",
       "\n",
       "    .dataframe tbody tr th {\n",
       "        vertical-align: top;\n",
       "    }\n",
       "\n",
       "    .dataframe thead th {\n",
       "        text-align: right;\n",
       "    }\n",
       "</style>\n",
       "<table border=\"1\" class=\"dataframe\">\n",
       "  <thead>\n",
       "    <tr style=\"text-align: right;\">\n",
       "      <th></th>\n",
       "      <th>ra_gaia</th>\n",
       "      <th>dec_gaia</th>\n",
       "      <th>source_id_gaia</th>\n",
       "      <th>original_size_0.08</th>\n",
       "      <th>filtered_size_0.08</th>\n",
       "      <th>wall_time_0.08</th>\n",
       "      <th>area_0.08</th>\n",
       "      <th>avg_density_0.08</th>\n",
       "      <th>throughput_0.08</th>\n",
       "      <th>filter_ratio_0.08</th>\n",
       "    </tr>\n",
       "  </thead>\n",
       "  <tbody>\n",
       "    <tr>\n",
       "      <th>0</th>\n",
       "      <td>1.383284</td>\n",
       "      <td>-37.367744</td>\n",
       "      <td>2306965202564744064</td>\n",
       "      <td>1567489.0</td>\n",
       "      <td>11103.0</td>\n",
       "      <td>177.213804</td>\n",
       "      <td>12.566371</td>\n",
       "      <td>124736.811296</td>\n",
       "      <td>62.653133</td>\n",
       "      <td>0.007083</td>\n",
       "    </tr>\n",
       "    <tr>\n",
       "      <th>1</th>\n",
       "      <td>33.079599</td>\n",
       "      <td>3.567385</td>\n",
       "      <td>2515037264041041536</td>\n",
       "      <td>1477993.0</td>\n",
       "      <td>8551.0</td>\n",
       "      <td>124.715159</td>\n",
       "      <td>12.566371</td>\n",
       "      <td>117614.945903</td>\n",
       "      <td>68.564239</td>\n",
       "      <td>0.005786</td>\n",
       "    </tr>\n",
       "    <tr>\n",
       "      <th>2</th>\n",
       "      <td>53.567196</td>\n",
       "      <td>-49.890084</td>\n",
       "      <td>4736655036868019072</td>\n",
       "      <td>1724605.0</td>\n",
       "      <td>14569.0</td>\n",
       "      <td>200.895326</td>\n",
       "      <td>12.566371</td>\n",
       "      <td>137239.705315</td>\n",
       "      <td>72.520353</td>\n",
       "      <td>0.008448</td>\n",
       "    </tr>\n",
       "    <tr>\n",
       "      <th>3</th>\n",
       "      <td>62.611000</td>\n",
       "      <td>-53.612997</td>\n",
       "      <td>4780100658292046592</td>\n",
       "      <td>1725968.0</td>\n",
       "      <td>17438.0</td>\n",
       "      <td>240.918111</td>\n",
       "      <td>12.566371</td>\n",
       "      <td>137348.169409</td>\n",
       "      <td>72.381441</td>\n",
       "      <td>0.010103</td>\n",
       "    </tr>\n",
       "    <tr>\n",
       "      <th>4</th>\n",
       "      <td>50.000344</td>\n",
       "      <td>-43.066553</td>\n",
       "      <td>4847957293278177024</td>\n",
       "      <td>1663778.0</td>\n",
       "      <td>14051.0</td>\n",
       "      <td>195.900127</td>\n",
       "      <td>12.566371</td>\n",
       "      <td>132399.246454</td>\n",
       "      <td>71.725324</td>\n",
       "      <td>0.008445</td>\n",
       "    </tr>\n",
       "    <tr>\n",
       "      <th>5</th>\n",
       "      <td>5.035610</td>\n",
       "      <td>-64.869617</td>\n",
       "      <td>4900108950849461248</td>\n",
       "      <td>1227396.0</td>\n",
       "      <td>13272.0</td>\n",
       "      <td>186.065434</td>\n",
       "      <td>12.566371</td>\n",
       "      <td>97673.070266</td>\n",
       "      <td>71.329745</td>\n",
       "      <td>0.010813</td>\n",
       "    </tr>\n",
       "    <tr>\n",
       "      <th>6</th>\n",
       "      <td>32.622946</td>\n",
       "      <td>-50.820906</td>\n",
       "      <td>4937000898856156288</td>\n",
       "      <td>1648327.0</td>\n",
       "      <td>13365.0</td>\n",
       "      <td>175.256529</td>\n",
       "      <td>12.566371</td>\n",
       "      <td>131169.694941</td>\n",
       "      <td>76.259641</td>\n",
       "      <td>0.008108</td>\n",
       "    </tr>\n",
       "    <tr>\n",
       "      <th>7</th>\n",
       "      <td>32.624069</td>\n",
       "      <td>-50.820823</td>\n",
       "      <td>4937000898856154624</td>\n",
       "      <td>1648297.0</td>\n",
       "      <td>13363.0</td>\n",
       "      <td>168.127321</td>\n",
       "      <td>12.566371</td>\n",
       "      <td>131167.307617</td>\n",
       "      <td>79.481431</td>\n",
       "      <td>0.008107</td>\n",
       "    </tr>\n",
       "    <tr>\n",
       "      <th>8</th>\n",
       "      <td>11.341389</td>\n",
       "      <td>-33.497993</td>\n",
       "      <td>5006232026455470848</td>\n",
       "      <td>1626641.0</td>\n",
       "      <td>10458.0</td>\n",
       "      <td>144.097110</td>\n",
       "      <td>12.566371</td>\n",
       "      <td>129443.977893</td>\n",
       "      <td>72.576057</td>\n",
       "      <td>0.006429</td>\n",
       "    </tr>\n",
       "    <tr>\n",
       "      <th>9</th>\n",
       "      <td>54.572022</td>\n",
       "      <td>-11.499069</td>\n",
       "      <td>5115463180914712448</td>\n",
       "      <td>1001288.0</td>\n",
       "      <td>4934.0</td>\n",
       "      <td>129.568964</td>\n",
       "      <td>12.566371</td>\n",
       "      <td>79679.967329</td>\n",
       "      <td>38.080107</td>\n",
       "      <td>0.004928</td>\n",
       "    </tr>\n",
       "    <tr>\n",
       "      <th>10</th>\n",
       "      <td>24.771674</td>\n",
       "      <td>-17.947683</td>\n",
       "      <td>5140693571158946048</td>\n",
       "      <td>1648410.0</td>\n",
       "      <td>10391.0</td>\n",
       "      <td>163.166939</td>\n",
       "      <td>12.566371</td>\n",
       "      <td>131176.299871</td>\n",
       "      <td>63.683244</td>\n",
       "      <td>0.006304</td>\n",
       "    </tr>\n",
       "    <tr>\n",
       "      <th>11</th>\n",
       "      <td>24.771554</td>\n",
       "      <td>-17.948300</td>\n",
       "      <td>5140693571158739840</td>\n",
       "      <td>1648405.0</td>\n",
       "      <td>10392.0</td>\n",
       "      <td>165.021034</td>\n",
       "      <td>12.566371</td>\n",
       "      <td>131175.901984</td>\n",
       "      <td>62.973790</td>\n",
       "      <td>0.006304</td>\n",
       "    </tr>\n",
       "    <tr>\n",
       "      <th>12</th>\n",
       "      <td>41.569693</td>\n",
       "      <td>-4.997404</td>\n",
       "      <td>5184938400096586112</td>\n",
       "      <td>1605268.0</td>\n",
       "      <td>9602.0</td>\n",
       "      <td>134.984077</td>\n",
       "      <td>12.566371</td>\n",
       "      <td>127743.168594</td>\n",
       "      <td>71.134316</td>\n",
       "      <td>0.005982</td>\n",
       "    </tr>\n",
       "    <tr>\n",
       "      <th>13</th>\n",
       "      <td>42.817452</td>\n",
       "      <td>-3.888260</td>\n",
       "      <td>5185493447310441728</td>\n",
       "      <td>1605043.0</td>\n",
       "      <td>9011.0</td>\n",
       "      <td>141.882664</td>\n",
       "      <td>12.566371</td>\n",
       "      <td>127725.263663</td>\n",
       "      <td>63.510226</td>\n",
       "      <td>0.005614</td>\n",
       "    </tr>\n",
       "    <tr>\n",
       "      <th>14</th>\n",
       "      <td>330.872408</td>\n",
       "      <td>-56.797255</td>\n",
       "      <td>6412595290592307840</td>\n",
       "      <td>1769509.0</td>\n",
       "      <td>23353.0</td>\n",
       "      <td>310.562441</td>\n",
       "      <td>12.566371</td>\n",
       "      <td>140813.052098</td>\n",
       "      <td>75.195828</td>\n",
       "      <td>0.013197</td>\n",
       "    </tr>\n",
       "    <tr>\n",
       "      <th>15</th>\n",
       "      <td>331.076453</td>\n",
       "      <td>-56.793812</td>\n",
       "      <td>6412596012146801152</td>\n",
       "      <td>1768974.0</td>\n",
       "      <td>22880.0</td>\n",
       "      <td>320.966572</td>\n",
       "      <td>12.566371</td>\n",
       "      <td>140770.478151</td>\n",
       "      <td>71.284682</td>\n",
       "      <td>0.012934</td>\n",
       "    </tr>\n",
       "  </tbody>\n",
       "</table>\n",
       "</div>"
      ],
      "text/plain": [
       "       ra_gaia   dec_gaia       source_id_gaia  original_size_0.08  \\\n",
       "0     1.383284 -37.367744  2306965202564744064           1567489.0   \n",
       "1    33.079599   3.567385  2515037264041041536           1477993.0   \n",
       "2    53.567196 -49.890084  4736655036868019072           1724605.0   \n",
       "3    62.611000 -53.612997  4780100658292046592           1725968.0   \n",
       "4    50.000344 -43.066553  4847957293278177024           1663778.0   \n",
       "5     5.035610 -64.869617  4900108950849461248           1227396.0   \n",
       "6    32.622946 -50.820906  4937000898856156288           1648327.0   \n",
       "7    32.624069 -50.820823  4937000898856154624           1648297.0   \n",
       "8    11.341389 -33.497993  5006232026455470848           1626641.0   \n",
       "9    54.572022 -11.499069  5115463180914712448           1001288.0   \n",
       "10   24.771674 -17.947683  5140693571158946048           1648410.0   \n",
       "11   24.771554 -17.948300  5140693571158739840           1648405.0   \n",
       "12   41.569693  -4.997404  5184938400096586112           1605268.0   \n",
       "13   42.817452  -3.888260  5185493447310441728           1605043.0   \n",
       "14  330.872408 -56.797255  6412595290592307840           1769509.0   \n",
       "15  331.076453 -56.793812  6412596012146801152           1768974.0   \n",
       "\n",
       "    filtered_size_0.08  wall_time_0.08  area_0.08  avg_density_0.08  \\\n",
       "0              11103.0      177.213804  12.566371     124736.811296   \n",
       "1               8551.0      124.715159  12.566371     117614.945903   \n",
       "2              14569.0      200.895326  12.566371     137239.705315   \n",
       "3              17438.0      240.918111  12.566371     137348.169409   \n",
       "4              14051.0      195.900127  12.566371     132399.246454   \n",
       "5              13272.0      186.065434  12.566371      97673.070266   \n",
       "6              13365.0      175.256529  12.566371     131169.694941   \n",
       "7              13363.0      168.127321  12.566371     131167.307617   \n",
       "8              10458.0      144.097110  12.566371     129443.977893   \n",
       "9               4934.0      129.568964  12.566371      79679.967329   \n",
       "10             10391.0      163.166939  12.566371     131176.299871   \n",
       "11             10392.0      165.021034  12.566371     131175.901984   \n",
       "12              9602.0      134.984077  12.566371     127743.168594   \n",
       "13              9011.0      141.882664  12.566371     127725.263663   \n",
       "14             23353.0      310.562441  12.566371     140813.052098   \n",
       "15             22880.0      320.966572  12.566371     140770.478151   \n",
       "\n",
       "    throughput_0.08  filter_ratio_0.08  \n",
       "0         62.653133           0.007083  \n",
       "1         68.564239           0.005786  \n",
       "2         72.520353           0.008448  \n",
       "3         72.381441           0.010103  \n",
       "4         71.725324           0.008445  \n",
       "5         71.329745           0.010813  \n",
       "6         76.259641           0.008108  \n",
       "7         79.481431           0.008107  \n",
       "8         72.576057           0.006429  \n",
       "9         38.080107           0.004928  \n",
       "10        63.683244           0.006304  \n",
       "11        62.973790           0.006304  \n",
       "12        71.134316           0.005982  \n",
       "13        63.510226           0.005614  \n",
       "14        75.195828           0.013197  \n",
       "15        71.284682           0.012934  "
      ]
     },
     "execution_count": 7,
     "metadata": {},
     "output_type": "execute_result"
    }
   ],
   "source": [
    "%%time\n",
    "stats_df = gaia_high_pm_stars.apply(obtain_runtime_data, axis=1, args=(des_cols, cone_search_rad, query_string, \n",
    "                                                       xmatch_max_neighbors, max_neighbor_dist, \n",
    "                                                       min_neighbors, k, max_obj_deviation, des_id_col))\n",
    "\n",
    "gaia_high_pm_stars = pd.concat([gaia_high_pm_stars, stats_df], axis=1)\n",
    "gaia_high_pm_stars"
   ]
  },
  {
   "cell_type": "code",
   "execution_count": 8,
   "id": "d1708416-c2ad-46a8-8a1a-e6834800a100",
   "metadata": {},
   "outputs": [],
   "source": [
    "gaia_high_pm_stars.to_csv('benchmarking_results_0.08.csv')"
   ]
  },
  {
   "cell_type": "code",
   "execution_count": null,
   "id": "1c6803d6-8d21-4791-9a67-b4a125b24ba0",
   "metadata": {},
   "outputs": [],
   "source": []
  }
 ],
 "metadata": {
  "kernelspec": {
   "display_name": "lsdb-main",
   "language": "python",
   "name": "lsdb-main"
  },
  "language_info": {
   "codemirror_mode": {
    "name": "ipython",
    "version": 3
   },
   "file_extension": ".py",
   "mimetype": "text/x-python",
   "name": "python",
   "nbconvert_exporter": "python",
   "pygments_lexer": "ipython3",
   "version": "3.12.9"
  }
 },
 "nbformat": 4,
 "nbformat_minor": 5
}
