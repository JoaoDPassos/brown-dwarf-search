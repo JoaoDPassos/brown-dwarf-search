{
 "cells": [
  {
   "cell_type": "code",
   "execution_count": null,
   "id": "d770a6fe-3c53-46a6-abde-847149fc63c8",
   "metadata": {},
   "outputs": [],
   "source": []
  }
 ],
 "metadata": {
  "kernelspec": {
   "display_name": "lsdb-main",
   "language": "python",
   "name": "lsdb-main"
  },
  "language_info": {
   "codemirror_mode": {
    "name": "ipython",
    "version": 3
   },
   "file_extension": ".py",
   "mimetype": "text/x-python",
   "name": "python",
   "nbconvert_exporter": "python",
   "pygments_lexer": "ipython3",
   "version": "3.12.9"
  }
 },
 "nbformat": 4,
 "nbformat_minor": 5
}
